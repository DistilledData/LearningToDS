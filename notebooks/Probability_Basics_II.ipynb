{
 "cells": [
  {
   "cell_type": "markdown",
   "metadata": {},
   "source": [
    "Author: [DistilledData](https://github.com/DistilledData)"
   ]
  },
  {
   "cell_type": "markdown",
   "metadata": {},
   "source": [
    "%%latex\n",
    "\\tableofcontents\n",
    "\\pagebreak"
   ]
  },
  {
   "cell_type": "markdown",
   "metadata": {},
   "source": [
    "# Probability Basics II"
   ]
  },
  {
   "cell_type": "markdown",
   "metadata": {
    "ExecuteTime": {
     "end_time": "2020-10-25T19:55:04.827357Z",
     "start_time": "2020-10-25T19:55:04.823880Z"
    }
   },
   "source": [
    "This notebook is intended to serve as a study guide for probability basics that are useful in data science. Building on the content in the \"Probability_Basics\" notebook, this notebook will focus on random variables and related concepts, such as probability distribution and expectation. A background in set theory, some calculus, and some number theory is required to fully appreciate the boring math definitions in these notebooks.\n",
    "\n",
    "For the sake of brevity, I will discuss common probability distributions that data scientists use in glorious combat in a separate notebook."
   ]
  },
  {
   "cell_type": "markdown",
   "metadata": {},
   "source": [
    "## Random Variables"
   ]
  },
  {
   "cell_type": "markdown",
   "metadata": {},
   "source": [
    "### Definition"
   ]
  },
  {
   "cell_type": "markdown",
   "metadata": {},
   "source": [
    "A random variable is neither random nor a variable. In particular, a random variable is a [measureable function](https://en.wikipedia.org/wiki/Measurable_function) $X:\\Omega\\to E$ that maps outcome space $\\Omega$ to [measureable space](https://en.wikipedia.org/wiki/Measurable_space) E"
   ]
  },
  {
   "cell_type": "markdown",
   "metadata": {},
   "source": [
    "### Probability of A Random Variable"
   ]
  },
  {
   "cell_type": "markdown",
   "metadata": {},
   "source": [
    "Probability that $X$ takes on in a measurable set $S\\subseteq E$ is given by\n",
    "\n",
    "$$P(X\\in S)=P(\\{\\omega\\in\\Omega|X(\\omega)\\in S\\})$$"
   ]
  },
  {
   "cell_type": "markdown",
   "metadata": {},
   "source": [
    "While the example below uses a non-trivial mapping, the identity function $X(\\omega)=\\omega$ is perfectly valid for a random variable!"
   ]
  },
  {
   "cell_type": "markdown",
   "metadata": {},
   "source": [
    "### Continuous and Discrete Random Variables"
   ]
  },
  {
   "cell_type": "markdown",
   "metadata": {},
   "source": [
    "**Support:** set of values that can be assumed with non-zero probability by the random variable"
   ]
  },
  {
   "cell_type": "markdown",
   "metadata": {},
   "source": [
    "As you may guess from the names, a **continuous random variable** has a *continuous or [uncountable](https://en.wikipedia.org/wiki/Uncountable_set) support* and a **discrete random variable** has a *discrete or [countable](https://en.wikipedia.org/wiki/Countable_set) support*"
   ]
  },
  {
   "cell_type": "markdown",
   "metadata": {},
   "source": [
    "#### Examples of Continuous Random Variables"
   ]
  },
  {
   "cell_type": "markdown",
   "metadata": {},
   "source": [
    "Below are some examples of **continuous random variables** that can take on values in $\\mathbb{R}$\n",
    "\n",
    "1. The height of incoming students for a college\n",
    "2. Time\n",
    "3. Temperature"
   ]
  },
  {
   "cell_type": "markdown",
   "metadata": {},
   "source": [
    "#### Examples of Discrete Random Variables"
   ]
  },
  {
   "cell_type": "markdown",
   "metadata": {},
   "source": [
    "**Discrete random variables** come in two distinct flavors: \n",
    "- *finite* variables have a limited number of values that can be assumed \n",
    "- *infinite* variables have an unlimited (but countable) number of values that can be assumed <br>"
   ]
  },
  {
   "cell_type": "markdown",
   "metadata": {},
   "source": [
    "Below are some examples of **finite discrete random variables**:\n",
    "1. The outcome of rolling a fair six-sided die\n",
    "2. The outcome of flipping a fair two-sided coin\n",
    "3. The outcome of randomly drawing five cards from a standard deck of cards without replacement"
   ]
  },
  {
   "cell_type": "markdown",
   "metadata": {},
   "source": [
    "Below are some examples of **infinite discrete random variables**:\n",
    "1. Given a fair two sided coin, the number of coin flips until we get heads\n",
    "2. Assuming there are in infinite number of computers connected to the web, the number of unique visitors on a website for a particular day\n",
    "3. The number of cats in my backyard (how deep is my yard?!?)"
   ]
  },
  {
   "cell_type": "markdown",
   "metadata": {},
   "source": [
    "Unlike the continuous random variables, even if a discrete random variable can assume an infinite number of values, we can still enumerate them using many (possibly infinite) fingers and toes"
   ]
  },
  {
   "cell_type": "markdown",
   "metadata": {},
   "source": [
    "### Example of Random Variable"
   ]
  },
  {
   "cell_type": "markdown",
   "metadata": {},
   "source": [
    "**Question: If you roll three six-sided fair die, what is the probability that the sum of the three rolls is 10?**"
   ]
  },
  {
   "cell_type": "markdown",
   "metadata": {},
   "source": [
    "Since this example is relatively simple from a computational perspective, I will focus on applying the random variable framework above. We will first define the sample space for the dice rolls\n",
    "\n",
    "$$\\Omega=\\{(1, 1, 1), (1, 1, 2),\\cdots,(6, 6, 6)\\}$$\n",
    "\n",
    "Since the sum of three dice are the subset of integers $[3, 18]$, we define $E=\\{3,4,\\cdots,18\\}$ and define our random variable $X$ below.\n",
    "\n",
    "$$X:\\Omega\\to E$$\n",
    "$$X\\big((x,y,z)\\big)\\to x+y+z$$"
   ]
  },
  {
   "cell_type": "markdown",
   "metadata": {},
   "source": [
    "I want to drive home with some math that we are looking for the probability of an event, a subset of $\\Omega$ in this example. While the math below is trivial for most people with some mathematics background, I want to focus on the deconstructing thought process that may be useful for more complicated examples.\n",
    "\n",
    "For our specific problem, $S=\\{10\\}\\subset E$. Since $\\{\\omega\\in\\Omega|X(\\omega)\\in S\\}=\\{\\omega=(a,b,c)\\in\\Omega|X(\\omega)=a+b+c\\in S=\\{10\\}\\}$, $\\forall\\alpha=(x,y,z)\\in\\Omega$, if $\\alpha\\in\\{\\omega\\in\\Omega|X(\\omega)\\in S\\}$, then $x+y+z=10$. Hence we are looking for the probability of an event $A\\subset\\Omega$ such that $\\forall\\beta=(d,e,f)\\in A$, $X(\\beta)=d+e+f=10$. "
   ]
  },
  {
   "cell_type": "markdown",
   "metadata": {},
   "source": [
    "The actual computation and code to find $P(\\{\\omega\\in\\Omega|X(\\omega)\\in S\\})$ is rather straight-forward. We will count the number of dice rolls that sum to 10, and divide by the total number of outcomes ($6^3$)"
   ]
  },
  {
   "cell_type": "markdown",
   "metadata": {},
   "source": [
    "%%latex\n",
    "\\pagebreak"
   ]
  },
  {
   "cell_type": "code",
   "execution_count": 1,
   "metadata": {
    "ExecuteTime": {
     "end_time": "2020-12-11T18:35:37.625170Z",
     "start_time": "2020-12-11T18:35:37.619305Z"
    }
   },
   "outputs": [
    {
     "name": "stdout",
     "output_type": "stream",
     "text": [
      "Number of outcomes that sum to 10:\t\t\t 27\n",
      "Number of total outcomes\t\t\t\t 216\n",
      "Probability of rolling an outcome that sums to 10:\t 0.125\n"
     ]
    }
   ],
   "source": [
    "count = 0\n",
    "for roll1 in range(1,7):\n",
    "    #amount that roll2 + roll3 must sum to\n",
    "    remaining = 10 - roll1\n",
    "    #if roll2 == remaining, then we stop\n",
    "    for roll2 in range(1, min(remaining, 7)):\n",
    "        #in order to sum to 10, roll3 = 10 - roll1 - roll2\n",
    "        #if roll3 is between 0 and 1, then we have a valid outcome\n",
    "        if 0 <= remaining - roll2 and remaining - roll2 <= 6:\n",
    "            count += 1\n",
    "\n",
    "print(\"Number of outcomes that sum to 10:\\t\\t\\t\", count)\n",
    "print(\"Number of total outcomes\\t\\t\\t\\t\", 6*6*6)\n",
    "print(\"Probability of rolling an outcome that sums to 10:\\t\", count/(6*6*6))        "
   ]
  },
  {
   "cell_type": "markdown",
   "metadata": {},
   "source": [
    "## Probability Distributions"
   ]
  },
  {
   "cell_type": "markdown",
   "metadata": {},
   "source": [
    "### Boring Mathematical Definition"
   ]
  },
  {
   "cell_type": "markdown",
   "metadata": {},
   "source": [
    "A probability distribution is a function $P:\\cal{A}\\to[0,1]$ that maps the input space $A$ (related in some way to the sample space $\\Omega$) to probabilities. <br>\n",
    "A function $P$ is a probability function $\\iff$ it satisfies the Kolgomorov Axioms (the axioms of probability that we encountered in the \"Probability_Basics\" notebook)"
   ]
  },
  {
   "cell_type": "markdown",
   "metadata": {},
   "source": [
    "### Probability Mass Functions (PMF)"
   ]
  },
  {
   "cell_type": "markdown",
   "metadata": {},
   "source": [
    "Given a discrete random variable $X$, a PMF is a probability distribution $p:\\mathbb{R}\\to[0,1]$ defined by $p_X(x_i)=P(X=x_i)$ where $-\\infty<x_i<\\infty$ and $P$ is a probability measure"
   ]
  },
  {
   "cell_type": "markdown",
   "metadata": {},
   "source": [
    "### Probability Density Function (PDF)"
   ]
  },
  {
   "cell_type": "markdown",
   "metadata": {},
   "source": [
    "Given a continuous random variable $X$, a PDF is a probability distribtuion $f_X:\\mathbb{R}\\to[0,\\infty)$ such that for all intervals $[a,b]\\subseteq\\mathbb{R}$, \n",
    "\n",
    "$$P(X\\in[a,b])=\\int_a^bf_X(x)dx$$"
   ]
  },
  {
   "cell_type": "markdown",
   "metadata": {},
   "source": [
    "### Discussion"
   ]
  },
  {
   "cell_type": "markdown",
   "metadata": {},
   "source": [
    "You may be curious why we have two separate definitions depending on whether a random variable is discrete or continuous. In our definition for PMF, we assign a non-zero probability for a given value $x_i$. What happens when we try to apply the definition of PDF to a particular value? Using the definition above, we obtain\n",
    "\n",
    "$$P(X=x_i)=P(X\\in[x_i,x_i])=\\int_{x_i}^{x_i}f_X(x)dx=0$$\n",
    " \n",
    " We have just shown that the probability assigned to any particular value with respect to a continuous random variable is 0! Intuitively, since continuous random variables operate on intervals and discrete random variables operate with respect to distinct values, we require different mathematical definitions to accomodate the different cases."
   ]
  },
  {
   "cell_type": "markdown",
   "metadata": {},
   "source": [
    "### Cumulative Density Function (CDF)"
   ]
  },
  {
   "cell_type": "markdown",
   "metadata": {},
   "source": [
    "The CDF of a real-valued random variable $X$ is given by $F_X(x)=P(X\\le x)$"
   ]
  },
  {
   "cell_type": "markdown",
   "metadata": {},
   "source": [
    "#### Properties of CDF"
   ]
  },
  {
   "cell_type": "markdown",
   "metadata": {},
   "source": [
    "1. $F_X$ is non-decreasing\n",
    "2. $F_X$ is [right-continuous](https://en.wikipedia.org/wiki/Continuous_function#Directional_and_semi-continuity) $\\big($this may be thought of intuitively as the limit approaching from the right exists for all values of the domain, or $\\forall c\\in\\mathbb{R} \\lim\\limits_{x\\to c+}F_X(x)=F_X(c)\\big)$\n",
    "2. $\\lim\\limits_{x\\to-\\infty}F_X(x)=0$\n",
    "3. $\\lim\\limits_{x\\to+\\infty}F_X(x)=1$"
   ]
  },
  {
   "cell_type": "markdown",
   "metadata": {},
   "source": [
    "### Continuing our Die Example"
   ]
  },
  {
   "cell_type": "markdown",
   "metadata": {},
   "source": [
    "Continuing our work with rolling three die, let us construct the PMF and CDF for our discrete case."
   ]
  },
  {
   "cell_type": "markdown",
   "metadata": {},
   "source": [
    "%%latex\n",
    "\\pagebreak"
   ]
  },
  {
   "cell_type": "code",
   "execution_count": 2,
   "metadata": {
    "ExecuteTime": {
     "end_time": "2020-12-11T18:35:41.479151Z",
     "start_time": "2020-12-11T18:35:41.459020Z"
    }
   },
   "outputs": [
    {
     "name": "stdout",
     "output_type": "stream",
     "text": [
      "sum \t frequency \t pdf \t\t cdf\n",
      "1 \t 0 \t\t 0.000000 \t 0.000000\n",
      "2 \t 0 \t\t 0.000000 \t 0.000000\n",
      "3 \t 1 \t\t 0.004630 \t 0.004630\n",
      "4 \t 3 \t\t 0.013889 \t 0.018519\n",
      "5 \t 6 \t\t 0.027778 \t 0.046296\n",
      "6 \t 10 \t\t 0.046296 \t 0.092593\n",
      "7 \t 15 \t\t 0.069444 \t 0.162037\n",
      "8 \t 21 \t\t 0.097222 \t 0.259259\n",
      "9 \t 25 \t\t 0.115741 \t 0.375000\n",
      "10 \t 27 \t\t 0.125000 \t 0.500000\n",
      "11 \t 27 \t\t 0.125000 \t 0.625000\n",
      "12 \t 25 \t\t 0.115741 \t 0.740741\n",
      "13 \t 21 \t\t 0.097222 \t 0.837963\n",
      "14 \t 15 \t\t 0.069444 \t 0.907407\n",
      "15 \t 10 \t\t 0.046296 \t 0.953704\n",
      "16 \t 6 \t\t 0.027778 \t 0.981481\n",
      "17 \t 3 \t\t 0.013889 \t 0.995370\n",
      "18 \t 1 \t\t 0.004630 \t 1.000000\n"
     ]
    }
   ],
   "source": [
    "import numpy as np\n",
    "\n",
    "#there are 16 possible sums ranging from 3 to 18\n",
    "count = [0 for i in range(18)]\n",
    "\n",
    "for i in range(1, 7):\n",
    "    for j in range(1, 7):\n",
    "        for k in range(1, 7):\n",
    "            count[i + j + k - 1] += 1\n",
    "\n",
    "pdf = [c/216 for c in count]\n",
    "cdf = np.cumsum(pdf)\n",
    "print(\"sum\", '\\t', \"frequency\", '\\t', \"pdf\", '\\t\\t', \"cdf\")\n",
    "for i in range(18):\n",
    "    print(i+1, '\\t', count[i], '\\t\\t', '{:.6f}'.format(pdf[i]), '\\t', '{:.6f}'.format(cdf[i]))"
   ]
  },
  {
   "cell_type": "markdown",
   "metadata": {},
   "source": [
    "%%latex\n",
    "\\pagebreak"
   ]
  },
  {
   "cell_type": "code",
   "execution_count": 3,
   "metadata": {
    "ExecuteTime": {
     "end_time": "2020-12-11T18:35:45.045400Z",
     "start_time": "2020-12-11T18:35:43.753755Z"
    }
   },
   "outputs": [
    {
     "data": {
      "text/plain": [
       "Text(0.5, 1.0, 'PMF for Sum of Three Dice Rolls')"
      ]
     },
     "execution_count": 3,
     "metadata": {},
     "output_type": "execute_result"
    },
    {
     "data": {
      "image/png": "[encoded data removed]",
      "text/plain": [
       "<Figure size 432x288 with 1 Axes>"
      ]
     },
     "metadata": {
      "needs_background": "light"
     },
     "output_type": "display_data"
    }
   ],
   "source": [
    "import matplotlib.pyplot as plt\n",
    "\n",
    "sum_values = [i + 1 for i in range(18)]\n",
    "plt.plot(sum_values,pdf, 'ro')\n",
    "plt.xlabel(\"Sum\")\n",
    "plt.ylabel(\"Probability\")\n",
    "plt.title(\"PMF for Sum of Three Dice Rolls\")"
   ]
  },
  {
   "cell_type": "markdown",
   "metadata": {},
   "source": [
    "%%latex\n",
    "\\pagebreak"
   ]
  },
  {
   "cell_type": "code",
   "execution_count": 5,
   "metadata": {
    "ExecuteTime": {
     "end_time": "2020-12-11T18:35:51.678257Z",
     "start_time": "2020-12-11T18:35:51.557302Z"
    }
   },
   "outputs": [
    {
     "data": {
      "text/plain": [
       "Text(0.5, 1.0, 'CDF for Sum of Three Dice Rolls')"
      ]
     },
     "execution_count": 5,
     "metadata": {},
     "output_type": "execute_result"
    },
    {
     "data": {
      "image/png": "[encoded data removed]",
      "text/plain": [
       "<Figure size 432x288 with 1 Axes>"
      ]
     },
     "metadata": {
      "needs_background": "light"
     },
     "output_type": "display_data"
    }
   ],
   "source": [
    "fig, ax = plt.subplots()\n",
    "#fig.set_figheight(6)\n",
    "#fig.set_figwidth(6)\n",
    "\n",
    "# https://matplotlib.org/api/_as_gen/matplotlib.axes.Axes.hlines.html\n",
    "ax.hlines(y=cdf[:-1], xmin=sum_values[:-1], xmax=sum_values[1:],\n",
    "          zorder=1)\n",
    "\n",
    "# https://matplotlib.org/api/_as_gen/matplotlib.axes.Axes.vlines.html\n",
    "ax.vlines(x=sum_values[1:], ymin=cdf[:-1], ymax=cdf[1:], \n",
    "          linestyle='dashed', zorder=1)\n",
    "\n",
    "ax.scatter(sum_values,cdf)\n",
    "#plt.xlabel(\"Sum\")\n",
    "#plt.ylabel(\"Cumulative Probability\")\n",
    "plt.title(\"CDF for Sum of Three Dice Rolls\")"
   ]
  },
  {
   "cell_type": "markdown",
   "metadata": {},
   "source": [
    "### Discussion"
   ]
  },
  {
   "cell_type": "markdown",
   "metadata": {},
   "source": [
    "We should briefly discuss some stylistic choices I made above when constructing the plots for the PMF and CDF. Since the PMF is defined on indiviidual values, I opted for a scatter plot wihtout any lines. Similarly, the discrete nature of the probabilities means that the CDF is a step function (in fact the CDF for any discrete random variable will be a step function), and some clever use of vline and hlines allows us to construct a reasonable looking CDF.\n",
    "\n",
    "The main reason for this discussion section to warn the user to be careful when constructing probability plots to avoid misleading others. If I had decided to use the default lines that are built into the `pyplot.plot` function, I would have been giving the false impression that the probabilities are continuous from one sum to the next in the PMF, and that there is a smooth increase in the CDF as we move from 3 to 18."
   ]
  },
  {
   "cell_type": "markdown",
   "metadata": {},
   "source": [
    "I want to also mention a curious aspect of the CDF that results from its particular mathematical definition. While the PMF function for a sum of 3.5 is 0, the CDF for 3.5 is 0.004630 because $F_X(3.5)=P(X\\le 3.5)$. In this fashion, the PDF and CDF before 3 are both 0. Meanwhile, the PDF for values greater than 18 is 0 because the sum for three die cannot be greater than 18, but the CDF for values greater than or equal to 18 is 1 because $F_X(x)=P(X \\le x)=1$ when $x\\ge 18$."
   ]
  },
  {
   "cell_type": "markdown",
   "metadata": {},
   "source": [
    "## Expected Value"
   ]
  },
  {
   "cell_type": "markdown",
   "metadata": {},
   "source": [
    "Given a random variable $X$, $\\mathbb{E}[X]$ is the arithmetic mean of a large number of independent realizations of $X$. In other words, after running a many many trials of an experiment, what is the value we would expect to get for $X$?"
   ]
  },
  {
   "cell_type": "markdown",
   "metadata": {},
   "source": [
    "The mathematical definition for expected value of a random variable $X$ defined on a [probability space](https://en.wikipedia.org/wiki/Probability_space) $(\\Omega, \\Sigma, P)$ is given by\n",
    "\n",
    "$$\\mathbb{E}[X]=\\int_\\Omega X(\\omega)dP(\\omega)$$"
   ]
  },
  {
   "cell_type": "markdown",
   "metadata": {},
   "source": [
    "As foreshadowed in our discussion above, the mathematics involved simplifies to slightly different forms depending on whether we have a discrete or continuous random variable."
   ]
  },
  {
   "cell_type": "markdown",
   "metadata": {},
   "source": [
    "### Discrete Random Variable"
   ]
  },
  {
   "cell_type": "markdown",
   "metadata": {},
   "source": [
    "Since the main difference between a finite and infinite discrete random variable is the cardinality of the outcome space $\\Omega$, the only significant difference in the definitions below is the value for the upper limit for the summation."
   ]
  },
  {
   "cell_type": "markdown",
   "metadata": {
    "ExecuteTime": {
     "end_time": "2020-10-28T05:00:09.039429Z",
     "start_time": "2020-10-28T05:00:09.037386Z"
    }
   },
   "source": [
    "#### Finite Discrete Random Variable"
   ]
  },
  {
   "cell_type": "markdown",
   "metadata": {},
   "source": [
    "Given a discrete random variable $X$ that can take on k discrete values $x_1,\\cdots,x_k$ such that $P(X=x_i)=p_i$, we define the expected value below:\n",
    "\n",
    "$$\\mathbb{E}[X]=\\sum\\limits_i^k x_i p_i$$"
   ]
  },
  {
   "cell_type": "markdown",
   "metadata": {},
   "source": [
    "#### Infinite Discrete Random Variable"
   ]
  },
  {
   "cell_type": "markdown",
   "metadata": {
    "ExecuteTime": {
     "end_time": "2020-10-28T05:12:06.882473Z",
     "start_time": "2020-10-28T05:12:06.877127Z"
    }
   },
   "source": [
    "Given a discrete random variable $X$ that can take on infinite discrete values $x_1,x_2,\\cdots$ such that $P(X=x_i)=p_i$, we define the expected value below: \n",
    "\n",
    "$$\\mathbb{E}[X]=\\sum\\limits_i^\\infty x_i p_i$$"
   ]
  },
  {
   "cell_type": "markdown",
   "metadata": {
    "ExecuteTime": {
     "end_time": "2020-10-28T05:13:38.955941Z",
     "start_time": "2020-10-28T05:13:38.954164Z"
    }
   },
   "source": [
    "### Continuous Random Variable"
   ]
  },
  {
   "cell_type": "markdown",
   "metadata": {},
   "source": [
    "Given a real-valued continuous random variable $X$ with denisty function $f(x)$, the expected value is given by \n",
    "\n",
    "$$\\mathbb{E}[X]=\\int_\\mathbb{R} xf(x)dx$$"
   ]
  },
  {
   "cell_type": "markdown",
   "metadata": {},
   "source": [
    "### Expectation for CDF"
   ]
  },
  {
   "cell_type": "markdown",
   "metadata": {},
   "source": [
    "Given a real-valued random variable $X$ with CDF $F_X$, the expected value is given by\n",
    "\n",
    "$$\\mathbb{E}[X]=\\int_\\mathbb{R}xdF_X(x)$$"
   ]
  },
  {
   "cell_type": "markdown",
   "metadata": {},
   "source": [
    "## Useful Properties of Expected Values"
   ]
  },
  {
   "cell_type": "markdown",
   "metadata": {},
   "source": [
    "### **Non-Negativity**"
   ]
  },
  {
   "cell_type": "markdown",
   "metadata": {},
   "source": [
    "If a real-valued random variable $X\\ge 0$, then $\\mathbb{E}[X]\\ge 0$"
   ]
  },
  {
   "cell_type": "markdown",
   "metadata": {},
   "source": [
    "### **Linearity of Expectation**"
   ]
  },
  {
   "cell_type": "markdown",
   "metadata": {
    "ExecuteTime": {
     "end_time": "2020-10-28T05:29:04.983639Z",
     "start_time": "2020-10-28T05:29:04.979906Z"
    }
   },
   "source": [
    "Given two random variables $X$ and $Y$, <br>\n",
    "1. $\\mathbb{E}[X+Y]=\\mathbb{E}[X]+\\mathbb{E}[Y]$ <br>\n",
    "2. $\\forall\\alpha\\in\\mathbb{R}$ $\\mathbb{E}[\\alpha X]=\\alpha\\mathbb{E}[X]$"
   ]
  },
  {
   "cell_type": "markdown",
   "metadata": {},
   "source": [
    "### **Monotonicity**"
   ]
  },
  {
   "cell_type": "markdown",
   "metadata": {},
   "source": [
    "Given two real-valued random variables X and Y, if $X\\ge Y$ and both $\\mathbb{E}[X]$ and $\\mathbb{E}[Y]$ exists, then $\\mathbb{E}[X]\\le\\mathbb{E}[Y]$"
   ]
  },
  {
   "cell_type": "markdown",
   "metadata": {},
   "source": [
    "### **Law of the Unconscious Statistician**"
   ]
  },
  {
   "cell_type": "markdown",
   "metadata": {
    "ExecuteTime": {
     "end_time": "2020-10-28T05:47:16.706888Z",
     "start_time": "2020-10-28T05:47:16.702599Z"
    }
   },
   "source": [
    "If $g(X)$ is a measurable function of a random variable $X$ with probability density function $f(x)$, <br>\n",
    "then the expected value is given by the inner product of $f$ and $g$."
   ]
  },
  {
   "cell_type": "markdown",
   "metadata": {},
   "source": [
    "If $X$ is a continuous random variable with PDF $f$, then the expected value is given by\n",
    "\n",
    "$$\\mathbb{E}[g(X)]=\\int_\\mathbb{R}g(x)f(x)dx$$"
   ]
  },
  {
   "cell_type": "markdown",
   "metadata": {},
   "source": [
    "If $X$ is a discrete random variable with PMF $f$, then the expected value is given by\n",
    "\n",
    "$$\\mathbb{E}[g(X)]=\\sum\\limits_x g(x)f(x)$$"
   ]
  },
  {
   "cell_type": "markdown",
   "metadata": {},
   "source": [
    "If $X$ is a real-valued random variable with CDF $F_X$, then the expected value is given by\n",
    "\n",
    "$$\\mathbb{E}[g(X)]=\\int_\\mathbb{R}g(x)dF_X(x)$$"
   ]
  },
  {
   "cell_type": "markdown",
   "metadata": {
    "ExecuteTime": {
     "end_time": "2020-10-28T05:47:32.774357Z",
     "start_time": "2020-10-28T05:47:32.772446Z"
    }
   },
   "source": [
    "### **Non-Multiplicativity and Independence**"
   ]
  },
  {
   "cell_type": "markdown",
   "metadata": {
    "ExecuteTime": {
     "end_time": "2020-10-28T05:34:51.135517Z",
     "start_time": "2020-10-28T05:34:51.130992Z"
    }
   },
   "source": [
    "In general, for two random variables X and Y, $\\mathbb{E}[XY]\\ne\\mathbb{E}[X]\\mathbb{E}[Y]$\n",
    "\n",
    "However, if X and Y are independent, then $\\mathbb{E}[XY]=\\mathbb{E}[X]\\mathbb{E}[Y]$"
   ]
  },
  {
   "cell_type": "markdown",
   "metadata": {},
   "source": [
    "### **Equality**"
   ]
  },
  {
   "cell_type": "markdown",
   "metadata": {},
   "source": [
    "Given two random variables $X$ and $Y$, if $X=Y$, then $\\mathbb{E}[X]=\\mathbb{E}[Y]$"
   ]
  },
  {
   "cell_type": "markdown",
   "metadata": {},
   "source": [
    "### **Constant**"
   ]
  },
  {
   "cell_type": "markdown",
   "metadata": {},
   "source": [
    "Given a random variable $X$, if $X=c$ for some constant $c\\in\\mathbb{R}$, then $\\mathbb{E}[X]=c$"
   ]
  }
 ],
 "metadata": {
  "kernelspec": {
   "display_name": "Python 3",
   "language": "python",
   "name": "python3"
  },
  "language_info": {
   "codemirror_mode": {
    "name": "ipython",
    "version": 3
   },
   "file_extension": ".py",
   "mimetype": "text/x-python",
   "name": "python",
   "nbconvert_exporter": "python",
   "pygments_lexer": "ipython3",
   "version": "3.7.9"
  },
  "varInspector": {
   "cols": {
    "lenName": 16,
    "lenType": 16,
    "lenVar": 40
   },
   "kernels_config": {
    "python": {
     "delete_cmd_postfix": "",
     "delete_cmd_prefix": "del ",
     "library": "var_list.py",
     "varRefreshCmd": "print(var_dic_list())"
    },
    "r": {
     "delete_cmd_postfix": ") ",
     "delete_cmd_prefix": "rm(",
     "library": "var_list.r",
     "varRefreshCmd": "cat(var_dic_list()) "
    }
   },
   "types_to_exclude": [
    "module",
    "function",
    "builtin_function_or_method",
    "instance",
    "_Feature"
   ],
   "window_display": false
  }
 },
 "nbformat": 4,
 "nbformat_minor": 4
}
