{
 "cells": [
  {
   "cell_type": "markdown",
   "metadata": {
    "tags": [
     "remove-cell"
    ]
   },
   "source": [
    "Author: [DistilledData](https://github.com/DistilledData)"
   ]
  },
  {
   "cell_type": "markdown",
   "metadata": {
    "tags": [
     "remove-cell"
    ]
   },
   "source": [
    "%%latex\n",
    "\\setcounter{tocdepth}{5}\n",
    "\\tableofcontents\n",
    "\\pagebreak"
   ]
  },
  {
   "cell_type": "markdown",
   "metadata": {
    "ExecuteTime": {
     "end_time": "2020-11-04T15:19:49.748526Z",
     "start_time": "2020-11-04T15:19:49.661543Z"
    }
   },
   "source": [
    "# Common Probability Distributions: Discrete"
   ]
  },
  {
   "cell_type": "markdown",
   "metadata": {
    "ExecuteTime": {
     "end_time": "2020-11-04T15:21:47.355273Z",
     "start_time": "2020-11-04T15:21:47.351525Z"
    }
   },
   "source": [
    "This notebook will introduce some common discrete probability distributions that are used by data scientists and statisticians. Whenever someone uses these distributions to describe a complex population, such as subscribers at a company or the suppliers in a complex market, in general they are not claiming the distribution perfectly describes the population. In most cases, they are making simplifying assumptions in order to create a model that is easier to interpret, and can take advantage of the well-known mathematical properties for a given distribution.\n",
    "\n",
    "This is not meant to be a comprehensive list of every discrete distribution in existence. Rather, this notebook will present a sampling of some of the more popular distributions. \n",
    "\n",
    "A brief note about notation. Unlike much of ordinary mathematics where $\\sim$ is taken to mean \"approximate\", the field of statistics uses the symbol $\\sim$ to denote that a random variable *is* a certain distribution. For example, \"$X\\sim B(n,p)$\" means that the random variable $X$ *is* a Bernoulli distribution with $n$ trials and with probability of success $p$."
   ]
  },
  {
   "cell_type": "markdown",
   "metadata": {},
   "source": [
    "## Discrete Uniform Distribution"
   ]
  },
  {
   "cell_type": "markdown",
   "metadata": {},
   "source": [
    "A discrete uniform distribution is a probability distribution  over a [finite set](https://en.wikipedia.org/wiki/Finite_set) $S$ that has a finite number of elements, denoted $n$, such that each outcome in $S$ has probability $\\frac{1}{n}$. While $S$ can be anything, such as marbles in a sack each with a unique symbol, we can make our lives a bit easier by assigning an index $i\\in\\{1,\\cdots, n\\}$ to each element in $S$.\n",
    "\n",
    "To make this discussion even slightly more general, we  will instead assign the index $i$ to a number in the set $\\{a,\\cdots,b\\}$ for some $a,b\\in\\mathbb{N}$. In order to provide more intuition when discussing statistical values, such as mean, median and variance, I will restrict the discussion to examples that involve finite sets $[a,b]\\subseteq\\mathbb{N}$, rather than sets like the bag of marbles that involve and intermediate mapping to integers.\n",
    "\n",
    "The cannonical examples for this distribution are rolling a fair n-sided die."
   ]
  },
  {
   "cell_type": "markdown",
   "metadata": {},
   "source": [
    "For the following properties below, we will consider a discrete uniform distribution $U$ in the range $[a,b]\\in\\mathbb{N}$. The number of items in this distribution is $n=b-a+1$.\n",
    "\n"
   ]
  },
  {
   "cell_type": "markdown",
   "metadata": {},
   "source": [
    "### PMF"
   ]
  },
  {
   "cell_type": "markdown",
   "metadata": {},
   "source": [
    "Given a distribution $X\\sim U(a,b)$, each outcome in the integer range $[a,b]$ is equally likely, each item has probability $\\frac{1}{n}$. In other words,\n",
    "\n",
    "$\\forall k\\in\\{a,a+1,\\cdots,b-1,b\\}$ $p_{U}(k)=P(X=k)=\\frac{1}{n}$"
   ]
  },
  {
   "cell_type": "markdown",
   "metadata": {
    "ExecuteTime": {
     "end_time": "2020-11-04T16:13:56.614256Z",
     "start_time": "2020-11-04T16:13:56.612320Z"
    }
   },
   "source": [
    "### CDF"
   ]
  },
  {
   "cell_type": "markdown",
   "metadata": {
    "ExecuteTime": {
     "end_time": "2020-11-04T23:50:02.155739Z",
     "start_time": "2020-11-04T23:50:02.150238Z"
    }
   },
   "source": [
    "Given distribution $X\\sim U(a,b)$, we expect that every integer from $a$ to $b$ adds an additional $\\frac{1}{n}$ to the CDF such that the $\\forall x<a$ $F(x)=0$ and $\\forall x\\ge b$ $F(x)=1$. We summarize this in the formula below.\n",
    "\n",
    "$$F_{U}(u)=P(X\\le u)=\\frac{\\lfloor u\\rfloor-a+1}{n}$$"
   ]
  },
  {
   "cell_type": "markdown",
   "metadata": {
    "ExecuteTime": {
     "end_time": "2020-11-04T16:14:03.731404Z",
     "start_time": "2020-11-04T16:14:03.729581Z"
    }
   },
   "source": [
    "### Mean"
   ]
  },
  {
   "cell_type": "markdown",
   "metadata": {
    "ExecuteTime": {
     "end_time": "2020-11-04T16:34:04.124275Z",
     "start_time": "2020-11-04T16:34:04.121138Z"
    }
   },
   "source": [
    "Given distribution $X\\sim U(a,b)$, $\\mathbb{E}[X]=\\mu_{U}=\\frac{a+b}{2}$"
   ]
  },
  {
   "cell_type": "markdown",
   "metadata": {},
   "source": [
    "#### Proof"
   ]
  },
  {
   "cell_type": "markdown",
   "metadata": {},
   "source": [
    "$\\mu_{U}=\\frac{\\sum\\limits_{i=a}^b i}{n}=\\frac{(a+b)n}{2n}=\\frac{a+b}{2}$"
   ]
  },
  {
   "cell_type": "markdown",
   "metadata": {},
   "source": [
    "### Median"
   ]
  },
  {
   "cell_type": "markdown",
   "metadata": {},
   "source": [
    "The median of $U$ is $\\frac{a+b}{2}$"
   ]
  },
  {
   "cell_type": "markdown",
   "metadata": {},
   "source": [
    "#### Proof"
   ]
  },
  {
   "cell_type": "markdown",
   "metadata": {},
   "source": [
    "Suppose $n$ is even. There are $\\frac{n}{2}$ elements that are less than or equal to $a+\\frac{n}{2}-1$ (the number of elements in the range $[a,a+\\frac{n}{2}-1]$ is $(a+\\frac{n}{2}-1)-a+1=\\frac{n}{2})$, and $\\frac{n}{2}$ elements greater than $b-\\frac{n}{2}+1$ (similarly the number of elements between $b-\\frac{n}{2}+1$ and $b$ is $b-(b-\\frac{n}{2}+1)+1=\\frac{n}{2}$. The median is the average of the two, or $\\frac{a+b}{2}$.\n",
    "\n",
    "Suppose $n$ is odd. There are $\\frac{n-1}{2}$ elements less than $a+\\frac{n-1}{2}$ (the number of elements in the range $[a,a+\\frac{n-1}{2}-1]$ is $\\frac{n-1}{2}$ using similar computations to those above). This means that there are $n-1-\\frac{n-1}{2}=\\frac{n-1}{2}$ elements above $a_\\frac{n-1}{2}$, and hence is the median. Using the fact that $n=b-a+1$, we can simplify the expression to $a+\\frac{n-1}{2}-1=a+\\frac{b-a+1-1}{2}-1=\\frac{a+b}{2}$\n",
    "\n",
    "Therefore, the median is $\\frac{a+b}{2}$."
   ]
  },
  {
   "cell_type": "markdown",
   "metadata": {},
   "source": [
    "### Variance"
   ]
  },
  {
   "cell_type": "markdown",
   "metadata": {},
   "source": [
    "Given distribution $X\\sim U(a,b)$, $\\text{Var}(X)=\\frac{(b-a+1)^2-1}{12}$"
   ]
  },
  {
   "cell_type": "markdown",
   "metadata": {
    "ExecuteTime": {
     "end_time": "2020-11-04T16:35:17.328539Z",
     "start_time": "2020-11-04T16:35:17.326757Z"
    }
   },
   "source": [
    "#### Proof"
   ]
  },
  {
   "cell_type": "markdown",
   "metadata": {},
   "source": [
    "Warning to the reader: the following proof is rather tedious and computationally intensive."
   ]
  },
  {
   "cell_type": "markdown",
   "metadata": {
    "ExecuteTime": {
     "end_time": "2020-11-04T23:09:19.997496Z",
     "start_time": "2020-11-04T23:09:19.993787Z"
    }
   },
   "source": [
    "**Lemma: for all  integers $n\\ge1$ $\\sum\\limits_{i=1}^ni^2=\\frac{n(n+1)(2n+1)}{6}$**"
   ]
  },
  {
   "cell_type": "markdown",
   "metadata": {},
   "source": [
    "We will show the above formula by induction. While we only need one base case, I want to show that this formula works for a few different values of $n$ to appreciate its majesty."
   ]
  },
  {
   "cell_type": "markdown",
   "metadata": {
    "ExecuteTime": {
     "end_time": "2020-11-04T23:24:32.561558Z",
     "start_time": "2020-11-04T23:24:32.556764Z"
    }
   },
   "source": [
    "$$\\begin{aligned}\n",
    "\\sum\\limits_{i=1}^1 i^2&=\\frac{1(1+1)(2+1)}{6}=\\frac{6}{6}=1 \\\\\n",
    "\\sum\\limits_{i=1}^2 i^2&=\\frac{2(2+1)(4+1)}{6}=5 \\\\\n",
    "\\sum\\limits_{i=1}^3 i^2&=\\frac{3(3+1)(6+1)}{6}=14\n",
    "\\end{aligned}$$"
   ]
  },
  {
   "cell_type": "markdown",
   "metadata": {},
   "source": [
    "Now we assume that for all integers $n\\ge1$, $\\sum\\limits_{n=1}^ni^2=\\frac{n(n+1)(2n+1)}{6}$. We now need to show that the formula is valid for $n+1$"
   ]
  },
  {
   "cell_type": "markdown",
   "metadata": {},
   "source": [
    "$$\\begin{aligned}\n",
    "\\sum\\limits_{i=1}^{n+1}i^2&=(n+1)^2+\\sum\\limits_{i=1}^ni^2=(n+1)^2+\\frac{n(n+1)(2n+1)}{6} \\\\\n",
    "&=\\frac{n+1}{6}\\big(6n+6+2n^2+n\\big)=\\frac{n+1}{6}\\big(2n^2+7n+6\\big)=\\frac{n+1}{6}(2n+3)(n+2) \\\\\n",
    "&=\\frac{(n+1)\\big((n+1)+1\\big)\\big(2(n+1)+1\\big)}{6}\n",
    "\\end{aligned}$$"
   ]
  },
  {
   "cell_type": "markdown",
   "metadata": {},
   "source": [
    "**Claim: $\\mathbb{E}[X]^2=\\bigg(\\frac{a+b}{2}\\bigg)^2=\\frac{a^2+2ab+b^2}{4}$**"
   ]
  },
  {
   "cell_type": "markdown",
   "metadata": {},
   "source": [
    "$$\\begin{aligned}\n",
    "\\mathbb{E}[X^2]&=\\sum\\limits_{i=a}^bi^2p_{U}(i)=\\sum\\limits_{i=a}^bi^2\\frac{1}{b-a+1}=\\frac{1}{b-a+1}\\sum\\limits_{i=a}^bi^2 \\\\\n",
    "&=\\frac{1}{b-a+1}\\Bigg[\\sum\\limits_{i=1}^bi^2-\\sum\\limits_{i=1}^{a-1}i^2\\Bigg] \\\\\n",
    "&=\\frac{1}{b-a+1}\\Bigg[\\frac{b(b+1)(2b+1)}{6}-\\frac{(a-1)\\big((a-1)+1\\big)\\big(2(a-1)+1\\big)}{6}\\Bigg] \\\\\n",
    "&=\\frac{1}{b-a+1}\\Bigg[\\frac{b(b+1)(2b+1)}{6}-\\frac{a(a-1)(2a-1)}{6}\\Bigg]=\\frac{1}{b-a+1}\\Bigg[\\frac{[b(b+1)(2b+1)]-[a(a-1)(2a-1)]}{6}\\Bigg] \\\\\n",
    "&=\\frac{1}{b-a+1}\\Bigg[\\frac{\\big[(2b^3+3b^2+b)\\big]-\\big[(2a^3-3a^2+a)\\big]}{6}\\Bigg]=\\frac{1}{b-a+1}\\Bigg[\\frac{2b^3+3b^2+b-2a^3+3a^2-a}{6}\\Bigg] \\\\\n",
    "\\end{aligned}$$"
   ]
  },
  {
   "cell_type": "markdown",
   "metadata": {},
   "source": [
    "$\\mathbb{E}[X]^2=\\bigg(\\frac{a+b}{2}\\bigg)^2=\\frac{a^2+2ab+b^2}{4}$"
   ]
  },
  {
   "cell_type": "markdown",
   "metadata": {},
   "source": [
    "We will adjust the expresesions for $\\mathbb{E}[X^2]$ and $\\mathbb{E}[X]^2$ to the common denominator $12(b-a+1)$."
   ]
  },
  {
   "cell_type": "markdown",
   "metadata": {},
   "source": [
    "$$\\begin{aligned}\n",
    "\\mathbb{E}[X^2]&=\\frac{1}{b-a+1}\\Bigg[\\frac{2b^3+3b^2+b-2a^3+3a^2-a}{6}\\Bigg] \\\\\n",
    "&=\\frac{1}{b-a+1}\\Bigg[\\frac{2}{2}\\frac{2b^3+3b^2+b-2a^3+3a^2-a}{6}\\Bigg]=\\frac{1}{b-a+1}\\Bigg[\\frac{4b^3+6b^2+2b-4a^3+6a^2-2a}{12}\\Bigg] \\\\\n",
    "&=\\frac{1}{12(b-a+1)}\\big(4b^3+6b^2+2b-4a^3+6a^2-2a\\big)\n",
    "\\end{aligned}$$"
   ]
  },
  {
   "cell_type": "markdown",
   "metadata": {},
   "source": [
    "$$\\begin{aligned}\n",
    "\\mathbb{E}[X]^2&=\\frac{a^2+2ab+b^2}{4} \\\\\n",
    "&=\\frac{3(b-a+1)}{3(b-a+1)}\\frac{a^2+2ab+b^2}{4}=\\frac{3}{12(b-a+1)}\\bigg[\\big(b-a+1\\big)\\big(a^2+2ab+b^2\\big)\\bigg] \\\\\n",
    "&=\\frac{3}{12(b-a+1)}\\bigg[a^2b+2ab^2+b^3-a^3-2a^2b-ab^2+a^2+2ab+b^2\\bigg] \\\\\n",
    "&=\\frac{3}{12(b-a+1)}\\bigg[ab^2+b^3-a^3-a^2b+a^2+2ab+b^2\\bigg] \\\\\n",
    "&=\\frac{1}{12(b-a+1)}\\big(3ab^2+3b^3-3a^3-3a^2b+3a^2+6ab+3b^2\\big) \\\\\n",
    "\\end{aligned}$$"
   ]
  },
  {
   "cell_type": "markdown",
   "metadata": {
    "ExecuteTime": {
     "end_time": "2020-11-04T21:54:25.090224Z",
     "start_time": "2020-11-04T21:54:25.086872Z"
    }
   },
   "source": [
    "We can now compute the variance"
   ]
  },
  {
   "cell_type": "markdown",
   "metadata": {
    "ExecuteTime": {
     "end_time": "2020-11-04T21:56:10.215812Z",
     "start_time": "2020-11-04T21:56:10.211276Z"
    }
   },
   "source": [
    "$$\\begin{aligned}\n",
    "\\mathbb{E}[X^2]-\\mathbb{E}[X]^2&=\\frac{1}{12(b-a+1)}\\Bigg[\\big(4b^3+6b^2+2b-4a^3+6a^2-2a\\big) \\\\\n",
    "&-\\big(3ab^2+3b^3-3a^3-3a^2b+3a^2+6ab+3b^2\\big)\\Bigg] \\\\\n",
    "&=\\frac{1}{12(b-a+1)}\\big(b^3+3b^2+2b-a^3+3a^2-2a-3ab^2+3a^2b-6ab\\big) \\\\\n",
    "\\end{aligned}$$"
   ]
  },
  {
   "cell_type": "markdown",
   "metadata": {},
   "source": [
    "$$\\begin{aligned}\n",
    "\\mathbb{E}[X^2]-\\mathbb{E}[X]^2&=\\frac{1}{12(b-a+1)}\\big(b^3+3b^2+2b-a^3+3a^2-2a-3ab^2+3a^2b-6ab\\big) \\\\\n",
    "\\end{aligned}$$"
   ]
  },
  {
   "cell_type": "markdown",
   "metadata": {},
   "source": [
    "If you have been following up to this point, please take a deep breath (you deserve it!). \n",
    "\n",
    "We will the fact that $(b-a+1)^2=b^2-2ba+2b-2a+a^2+1$ to guide our term grouping and complete our proof. "
   ]
  },
  {
   "cell_type": "markdown",
   "metadata": {},
   "source": [
    "$$\\begin{aligned}\n",
    "\\mathbb{E}[X^2]-\\mathbb{E}[X]^2&=\\frac{1}{12(b-a+1)}\\Bigg(\\big(b^3-ab^2+b^2\\big)+\\big(2b^2-2ab+2b\\big)+ \\\\\n",
    "&\\big(a^2b-a^3+a^2\\big)-\\big(2ab-2a^2+2a\\big)-\\big(2ab^2-2a^2b+2ab\\big)\\Bigg) \\\\\n",
    "&=\\frac{1}{12(b-a+1)}\\Bigg(\\big(b^3-ab^2+b^2\\big)+\\big(2b^2-2ab+2b\\big)+\\big(a^2b-a^3+a^2\\big) \\\\\n",
    "&-\\big(2ab-2a^2+2a\\big)-\\big(2ab^2-2a^2b+2ab\\big)+(b-a+1)\\Bigg)-(b-a+1) \\\\\n",
    "&=\\frac{1}{12(b-a+1)}\\Bigg(\\big(b-a+1\\big)b^2+\\big(b-a+1\\big)2b+\\big(b-a+1\\big)a^2 \\\\\n",
    "&-\\big(b-a+1\\big)2a-\\big(b-a+1\\big)2ab+(b-a+1)\\Bigg)-(b-a+1) \\\\\n",
    "&=\\frac{b-a+1}{12(b-a+1)}\\Bigg(\\big(b^2+2b+a^2-2a-2ab+1\\big)-1\\Bigg)=\\frac{(b-a+1)^2-1}{12} \\\\\n",
    "\\end{aligned}$$"
   ]
  },
  {
   "cell_type": "markdown",
   "metadata": {},
   "source": [
    "### Mode"
   ]
  },
  {
   "cell_type": "markdown",
   "metadata": {},
   "source": [
    "Since all values have the same probability, any value in the  support is a valid mode."
   ]
  },
  {
   "cell_type": "markdown",
   "metadata": {
    "tags": [
     "remove-cell"
    ]
   },
   "source": [
    "%%latex\n",
    "\\pagebreak"
   ]
  },
  {
   "cell_type": "markdown",
   "metadata": {},
   "source": [
    "### Example: Rolling a Die"
   ]
  },
  {
   "cell_type": "markdown",
   "metadata": {},
   "source": [
    "The canonical example of a discrete uniform distribution is rolling a fair six-sided die. The probability of drawing 1, 2, 3, 4,5 or 6 is $\\frac{1}{6}$. The metrics we discussed above for this example is shown below."
   ]
  },
  {
   "cell_type": "markdown",
   "metadata": {},
   "source": [
    "**Table for PMF and CDF**"
   ]
  },
  {
   "cell_type": "code",
   "execution_count": 20,
   "metadata": {
    "ExecuteTime": {
     "end_time": "2020-11-05T22:11:02.044738Z",
     "start_time": "2020-11-05T22:11:02.038444Z"
    }
   },
   "outputs": [
    {
     "name": "stdout",
     "output_type": "stream",
     "text": [
      " value  probability  cumulative probability\n",
      "     1     0.166667                0.166667\n",
      "     2     0.166667                0.333333\n",
      "     3     0.166667                0.500000\n",
      "     4     0.166667                0.666667\n",
      "     5     0.166667                0.833333\n",
      "     6     0.166667                1.000000\n"
     ]
    }
   ],
   "source": [
    "import pandas as pd\n",
    "\n",
    "probabilities = {\"value\": [i for i in range(1,7)], \"probability\": [1/6 for i in range(6)], \n",
    "                 \"cumulative probability\": [i/6 for i in range(1,7)]}\n",
    "\n",
    "data = pd.DataFrame(probabilities)\n",
    "print(data.to_string(index=False))"
   ]
  },
  {
   "cell_type": "markdown",
   "metadata": {
    "tags": [
     "remove-cell"
    ]
   },
   "source": [
    "%%latex\n",
    "\\pagebreak"
   ]
  },
  {
   "cell_type": "markdown",
   "metadata": {
    "ExecuteTime": {
     "end_time": "2020-11-05T21:27:33.635566Z",
     "start_time": "2020-11-05T21:27:33.631012Z"
    }
   },
   "source": [
    "**PMF:** $\\forall k\\in\\{1,2,3,5,6\\}$ $p_{U}(k)=P(U=k)=\\frac{1}{6}$"
   ]
  },
  {
   "cell_type": "markdown",
   "metadata": {},
   "source": [
    "**Graph for PMF**"
   ]
  },
  {
   "cell_type": "code",
   "execution_count": 22,
   "metadata": {
    "ExecuteTime": {
     "end_time": "2020-11-05T22:11:17.005012Z",
     "start_time": "2020-11-05T22:11:16.897930Z"
    }
   },
   "outputs": [
    {
     "data": {
      "text/plain": [
       "Text(0.5, 1.0, 'PMF for Rolling a Die')"
      ]
     },
     "execution_count": 22,
     "metadata": {},
     "output_type": "execute_result"
    },
    {
     "data": {
      "image/png": "[encoded data removed]",
      "text/plain": [
       "<Figure size 432x288 with 1 Axes>"
      ]
     },
     "metadata": {
      "needs_background": "light"
     },
     "output_type": "display_data"
    }
   ],
   "source": [
    "import matplotlib.pyplot as plt\n",
    "\n",
    "plt.plot([i for i in range(1,7)], [1/6 for i in range(6)], 'ro')\n",
    "plt.xlabel(\"Value\")\n",
    "plt.ylabel(\"Probability\")\n",
    "plt.title(\"PMF for Rolling a Die\")"
   ]
  },
  {
   "cell_type": "markdown",
   "metadata": {
    "tags": [
     "remove-cell"
    ]
   },
   "source": [
    "%%latex\n",
    "\\pagebreak"
   ]
  },
  {
   "cell_type": "markdown",
   "metadata": {},
   "source": [
    "**CDF:** $\\forall x\\in\\mathbb{R}$ $F_{U}(x)=P(U\\le x)=\\frac{\\lfloor x\\rfloor - 1 + 1}{6}=\\frac{\\lfloor x \\rfloor}{6}$"
   ]
  },
  {
   "cell_type": "markdown",
   "metadata": {},
   "source": [
    "**Graph for CDF**"
   ]
  },
  {
   "cell_type": "code",
   "execution_count": 21,
   "metadata": {
    "ExecuteTime": {
     "end_time": "2020-11-15T04:30:18.794482Z",
     "start_time": "2020-11-15T04:30:18.669810Z"
    }
   },
   "outputs": [
    {
     "data": {
      "text/plain": [
       "Text(0.5, 1.0, 'CDF for Rolling a Die')"
      ]
     },
     "execution_count": 21,
     "metadata": {},
     "output_type": "execute_result"
    },
    {
     "data": {
      "image/png": "[encoded data removed]",
      "text/plain": [
       "<Figure size 432x288 with 1 Axes>"
      ]
     },
     "metadata": {
      "needs_background": "light"
     },
     "output_type": "display_data"
    }
   ],
   "source": [
    "fig, ax = plt.subplots()\n",
    "\n",
    "values = [i for i in range(1,7)]\n",
    "cdf = [i/6 for i in range(1,7)]\n",
    "\n",
    "# https://matplotlib.org/api/_as_gen/matplotlib.axes.Axes.hlines.html\n",
    "ax.hlines(y=cdf[:-1], xmin=values[:-1], xmax=values[1:],\n",
    "          zorder=1)\n",
    "\n",
    "ax.hlines(y=[0], xmin=[0], xmax=[1],\n",
    "          zorder=1)\n",
    "\n",
    "ax.hlines(y=[1], xmin=[6], xmax=[7],\n",
    "          zorder=1)\n",
    "\n",
    "# https://matplotlib.org/api/_as_gen/matplotlib.axes.Axes.vlines.html\n",
    "ax.vlines(x=values[1:], ymin=cdf, ymax=cdf[1:], \n",
    "          linestyle='dashed', zorder=1)\n",
    "\n",
    "ax.vlines(x=[1], ymin=[0], ymax=[1/6], \n",
    "          linestyle='dashed', zorder=1)\n",
    "\n",
    "ax.scatter(values,cdf)\n",
    "plt.xlabel(\"Roll Value\")\n",
    "plt.ylabel(\"Cumulative Probability\")\n",
    "plt.title(\"CDF for Rolling a Die\")"
   ]
  },
  {
   "cell_type": "markdown",
   "metadata": {},
   "source": [
    "**Mean:** $\\frac{1+6}{2}=3.5$"
   ]
  },
  {
   "cell_type": "markdown",
   "metadata": {},
   "source": [
    "**Median:** $\\frac{1+6}{2}=3.5$"
   ]
  },
  {
   "cell_type": "markdown",
   "metadata": {
    "ExecuteTime": {
     "end_time": "2020-11-05T21:35:18.531683Z",
     "start_time": "2020-11-05T21:35:18.528317Z"
    }
   },
   "source": [
    "**Variance:** $\\frac{(6-1+1)^2-1}{12}=\\frac{35}{12}=2.9177$"
   ]
  },
  {
   "cell_type": "markdown",
   "metadata": {},
   "source": [
    "**Mode:** 1, 2, 3, 4, 5, 6"
   ]
  },
  {
   "cell_type": "markdown",
   "metadata": {
    "tags": [
     "remove-cell"
    ]
   },
   "source": [
    "%%latex\n",
    "\\pagebreak"
   ]
  },
  {
   "cell_type": "markdown",
   "metadata": {
    "ExecuteTime": {
     "end_time": "2020-11-05T21:58:37.648904Z",
     "start_time": "2020-11-05T21:58:37.646950Z"
    }
   },
   "source": [
    "## Bernoulli Distribution"
   ]
  },
  {
   "cell_type": "markdown",
   "metadata": {},
   "source": [
    "A Bernoulli distribution is a probability distribution with two outcomes: 1 with probability $p$; and 0 with probability $1-p$. A Bernoulli distribution can also be thought of as a binomial distribution with one trial (see next section for more information on the binomial distribution).\n",
    "\n",
    "A  cannonical example is tossing a (possibly unfair) coin that has  probability of heads $p$ and probability of tails $p-1$."
   ]
  },
  {
   "cell_type": "markdown",
   "metadata": {},
   "source": [
    "### PMF"
   ]
  },
  {
   "cell_type": "markdown",
   "metadata": {},
   "source": [
    "$\\forall k\\in\\{0,1\\}$, $p_X(X=k)=\\begin{cases} 1-p & k=0 \\\\ p & k=1 \\end{cases}=p^k(1-p)^{1-k}$"
   ]
  },
  {
   "cell_type": "markdown",
   "metadata": {},
   "source": [
    "### CDF"
   ]
  },
  {
   "cell_type": "markdown",
   "metadata": {},
   "source": [
    "$\\forall x\\in\\mathbb{R}$ $F_X(x)=P(X\\le x)=\\begin{cases} 0 & x < 0 \\\\ 1-p & 0\\le x < 1 \\\\ p  & x\\ge 1\\end{cases}$"
   ]
  },
  {
   "cell_type": "markdown",
   "metadata": {},
   "source": [
    "### Mean"
   ]
  },
  {
   "cell_type": "markdown",
   "metadata": {},
   "source": [
    "$\\mathbb{E}[X]=1\\cdot p + 0\\cdot (1-p)=p$"
   ]
  },
  {
   "cell_type": "markdown",
   "metadata": {},
   "source": [
    "### Median"
   ]
  },
  {
   "cell_type": "markdown",
   "metadata": {},
   "source": [
    "Let $F^{-1}_X$ denote the [pre-image](https://mathworld.wolfram.com/Pre-Image.html) of the CDF $F_X$ for a Bernoulli distribution.\n",
    "\n",
    "$F^{-1}_X(0.5)=\\begin{cases} 0 & p < 0.5 \\\\ [0,1) & p = 0.5 \\\\ 1 & p > 0.5 \\end{cases}$"
   ]
  },
  {
   "cell_type": "markdown",
   "metadata": {},
   "source": [
    "### Variance"
   ]
  },
  {
   "cell_type": "markdown",
   "metadata": {},
   "source": [
    "$\\text{Var}(X)=p(1-p)$"
   ]
  },
  {
   "cell_type": "markdown",
   "metadata": {},
   "source": [
    "#### Proof"
   ]
  },
  {
   "cell_type": "markdown",
   "metadata": {},
   "source": [
    "$\\mathbb{E}[X^2]=1^2\\cdot  p + 0^2\\cdot (1-p)=p$\n",
    "\n",
    "$\\mathbb{E}[X]^2=p^2$\n",
    "\n",
    "$\\implies\\text{Var}(X)=\\mathbb{E}[X^2]-\\mathbb{E}[X]^2=p-p^2=p(1-p)$"
   ]
  },
  {
   "cell_type": "markdown",
   "metadata": {},
   "source": [
    "### Mode"
   ]
  },
  {
   "cell_type": "markdown",
   "metadata": {},
   "source": [
    "Since there are only two values, the mode will be the value with the greater probability.\n",
    "\n",
    "$\\text{mode}=\\begin{cases} 0 & p < 0.5 \\\\ 0,1 & p=0.5 \\\\ 1 & p>0.5\\end{cases}$"
   ]
  },
  {
   "cell_type": "markdown",
   "metadata": {},
   "source": [
    "### Example: Flipping a Coin"
   ]
  },
  {
   "cell_type": "markdown",
   "metadata": {},
   "source": [
    "We will consider the case of flipping an unfair coin wheree probability of heads is 0.8."
   ]
  },
  {
   "cell_type": "markdown",
   "metadata": {
    "ExecuteTime": {
     "end_time": "2020-11-14T15:26:12.421612Z",
     "start_time": "2020-11-14T15:26:12.418218Z"
    }
   },
   "source": [
    "**PMF:** $\\forall k\\in\\{0,1\\}$ $p_X(k)=0.8^p0.2^{1-p}$"
   ]
  },
  {
   "cell_type": "markdown",
   "metadata": {},
   "source": [
    "**Graph for PMF**"
   ]
  },
  {
   "cell_type": "code",
   "execution_count": 20,
   "metadata": {
    "ExecuteTime": {
     "end_time": "2020-11-15T04:29:50.099787Z",
     "start_time": "2020-11-15T04:29:49.991596Z"
    }
   },
   "outputs": [
    {
     "data": {
      "text/plain": [
       "Text(0.5, 1.0, 'PMF for Fliipping a Coin')"
      ]
     },
     "execution_count": 20,
     "metadata": {},
     "output_type": "execute_result"
    },
    {
     "data": {
      "image/png": "[encoded data removed]",
      "text/plain": [
       "<Figure size 432x288 with 1 Axes>"
      ]
     },
     "metadata": {
      "needs_background": "light"
     },
     "output_type": "display_data"
    }
   ],
   "source": [
    "import matplotlib.pyplot as plt\n",
    "\n",
    "plt.plot([0,1], [0.2,0.8], 'ro')\n",
    "plt.ylim((0,1))\n",
    "plt.xlabel(\"Value\")\n",
    "plt.ylabel(\"Probability\")\n",
    "plt.title(\"PMF for Fliipping a Coin\")"
   ]
  },
  {
   "cell_type": "markdown",
   "metadata": {},
   "source": [
    "**CDF:** $\\forall x\\in\\mathbb{R}$ $F_X(x)=P(X\\le x)=\\begin{cases}0 & x < 0 \\\\ 0.8  & 0\\le x<1 \\\\ 1 & x\\ge 1\\end{cases}$"
   ]
  },
  {
   "cell_type": "markdown",
   "metadata": {},
   "source": [
    "**Graph for CDF**"
   ]
  },
  {
   "cell_type": "code",
   "execution_count": 11,
   "metadata": {
    "ExecuteTime": {
     "end_time": "2020-11-15T04:18:48.305445Z",
     "start_time": "2020-11-15T04:18:48.179446Z"
    }
   },
   "outputs": [
    {
     "data": {
      "text/plain": [
       "Text(0.5, 1.0, 'CDF for Flipping a Coin')"
      ]
     },
     "execution_count": 11,
     "metadata": {},
     "output_type": "execute_result"
    },
    {
     "data": {
      "image/png": "[encoded data removed]",
      "text/plain": [
       "<Figure size 432x288 with 1 Axes>"
      ]
     },
     "metadata": {
      "needs_background": "light"
     },
     "output_type": "display_data"
    }
   ],
   "source": [
    "fig, ax = plt.subplots()\n",
    "\n",
    "values = [0,1]\n",
    "cdf = [0.2,1]\n",
    "\n",
    "# https://matplotlib.org/api/_as_gen/matplotlib.axes.Axes.hlines.html\n",
    "ax.hlines(y=cdf[:-1], xmin=values[:-1], xmax=values[1:],\n",
    "          zorder=1)\n",
    "ax.hlines(y=[0], xmin=[-1], xmax=[0], zorder=1)\n",
    "ax.hlines(y=[1], xmin=[1], xmax=[2], zorder=1)\n",
    "\n",
    "# https://matplotlib.org/api/_as_gen/matplotlib.axes.Axes.vlines.html\n",
    "ax.vlines(x=values[1:], ymin=cdf, ymax=cdf[1:], \n",
    "          linestyle='dashed', zorder=1)\n",
    "ax.vlines(x=[0], ymin=[0], ymax=[0.2], \n",
    "          linestyle='dashed', zorder=1)\n",
    "\n",
    "ax.scatter(values,cdf)\n",
    "plt.xlabel(\"Flip Value\")\n",
    "plt.ylabel(\"Cumulative Probability\")\n",
    "#plt.ylim((0,1.25))\n",
    "plt.title(\"CDF for Flipping a Coin\")"
   ]
  },
  {
   "cell_type": "markdown",
   "metadata": {},
   "source": [
    "**mean:** 0.8"
   ]
  },
  {
   "cell_type": "markdown",
   "metadata": {},
   "source": [
    "**median:** 1"
   ]
  },
  {
   "cell_type": "markdown",
   "metadata": {},
   "source": [
    "**variance:** 0.16"
   ]
  },
  {
   "cell_type": "markdown",
   "metadata": {},
   "source": [
    "**mode:** 1"
   ]
  },
  {
   "cell_type": "markdown",
   "metadata": {
    "tags": [
     "remove-cell"
    ]
   },
   "source": [
    "%%latex\n",
    "\\pagebreak"
   ]
  },
  {
   "cell_type": "markdown",
   "metadata": {},
   "source": [
    "## Binomial Distribution"
   ]
  },
  {
   "cell_type": "markdown",
   "metadata": {},
   "source": [
    "Given an experiment with possible outcomes 1 with probability $p$ and 0 with probability $1-p$, a binomial distribution, denoted $B(n,p)$, measures the number of times an experiment has an outcome of 1 after conducting $n$ experiments.\n",
    "\n",
    "$B(n,p)$ has support (the random variable can take on values)  $\\{0,1,\\cdots,n\\}$\n",
    "\n",
    "A cannonical example is counting the number of heads after flipping a (possibly unfair) coin $n$ times.\n",
    "\n",
    "Since there are no straight-forward formulas for median or mode, we will omit these in the properties  below."
   ]
  },
  {
   "cell_type": "markdown",
   "metadata": {},
   "source": [
    "### PMF"
   ]
  },
  {
   "cell_type": "markdown",
   "metadata": {},
   "source": [
    "Given distribution $X\\sim B(n,p)$, $\\forall k\\in\\{0,1,\\cdots,n\\}$ $f_{\\cal{B}}(k)=p_{\\cal{B}}(X=k)={n \\choose k}p^k(1-p)^{n-k}$"
   ]
  },
  {
   "cell_type": "markdown",
   "metadata": {},
   "source": [
    "#### Proof"
   ]
  },
  {
   "cell_type": "markdown",
   "metadata": {},
   "source": [
    "Consider some combination of (0,1,...) that has x successes out of n trials. If we suppose that outcome 1 has probability of $p$, then the above combination has probability $p^x(1-p)^{n-x}$. Since there are x repeats for 1 and n-x repeats of 0, the number of ways to have x successes in n trials is $\\frac{n!}{x!(n-x)!}$, which is the same as ${n  \\choose x}$. We could have also noted that we need to choose x out of n slots for a 1, which also gives us ${n \\choose x}$. \n",
    "\n",
    "Therefore the total probability that we will have x successes out of n trials is given by $\\sum\\limits_{i=0}^{{n\\choose x}}p^x(1-p)^{n-x}={n\\choose x}p^x(1-p)^x$"
   ]
  },
  {
   "cell_type": "markdown",
   "metadata": {},
   "source": [
    "### CDF"
   ]
  },
  {
   "cell_type": "markdown",
   "metadata": {
    "ExecuteTime": {
     "end_time": "2020-11-15T01:23:42.261422Z",
     "start_time": "2020-11-15T01:23:42.257443Z"
    }
   },
   "source": [
    "Given distribution $X\\sim B(n,p)$, $\\forall x\\in\\mathbb{R}$, $F_{\\cal{B}}(x)=P(X\\le x)=\\sum\\limits_{i=0}^{\\lfloor x\\rfloor}{n \\choose k}p^i(1-p)^{n-i}$"
   ]
  },
  {
   "cell_type": "markdown",
   "metadata": {},
   "source": [
    "### Binomial Distribution as Sum of Bernoulli"
   ]
  },
  {
   "cell_type": "markdown",
   "metadata": {},
   "source": [
    "If we are given independent random variables $X_1,\\cdots,X_n$ where the $X_i\\sim\\text{Bernoulli}(p)$ for some $p\\in[0,1]$, then $Y=\\sum\\limits_{i=0}^nX_i\\sim\\text{Binomial}(n,p)$"
   ]
  },
  {
   "cell_type": "markdown",
   "metadata": {},
   "source": [
    "#### Proof"
   ]
  },
  {
   "cell_type": "markdown",
   "metadata": {},
   "source": [
    "Suppose we have independent Bernoulli distributions $X_1,\\cdots,X_n$ with probability $p\\in[0,1]$. Let $Y=X_1+\\cdots+X_n$. $\\forall k\\in\\{0,\\cdots, n\\}$, we need to choose $k$ out of the $n$ Bernoulli trials to be a success. The probability of $k$ successful trials is $p^k$ and the probability of $n-k$ unsuccessful trials is $(1-p)^{n-k}$.\n",
    "\n",
    "$f_Y(k)=P(Y=k)=P(\\text{k successful }X_i\\&\\text{n-k unsuccessful }X_i)={n\\choose k}p^k(1-p)^{n-k}$\n",
    "\n",
    "$\\therefore Y\\sim\\text{Binomial}(n,p)$"
   ]
  },
  {
   "cell_type": "markdown",
   "metadata": {},
   "source": [
    "### Mean"
   ]
  },
  {
   "cell_type": "markdown",
   "metadata": {
    "ExecuteTime": {
     "end_time": "2020-11-15T02:11:34.312996Z",
     "start_time": "2020-11-15T02:11:34.308637Z"
    }
   },
   "source": [
    "Given $X\\sim B(n,p)$, $\\mathbb{E}[X]=\\mu_{\\cal{B}}=np$"
   ]
  },
  {
   "cell_type": "markdown",
   "metadata": {
    "ExecuteTime": {
     "end_time": "2020-11-15T02:11:34.315530Z",
     "start_time": "2020-11-15T02:11:34.309Z"
    }
   },
   "source": [
    "#### Proof"
   ]
  },
  {
   "cell_type": "markdown",
   "metadata": {
    "ExecuteTime": {
     "end_time": "2020-11-15T02:11:34.421190Z",
     "start_time": "2020-11-15T02:11:34.417163Z"
    }
   },
   "source": [
    "Given distribution $X\\sim B(n,p)$, let $X=X_1+\\cdots+X_n$ where $X_i$ are independent Bernoulli distributions.\n",
    "\n",
    "$\\mathbb{E}[X]=\\mathbb{E}[X_1+\\cdots+X_n]=\\mathbb{E}[X_1]+\\cdots+\\mathbb{E}[X_n]=p+\\cdots+p=np$"
   ]
  },
  {
   "cell_type": "markdown",
   "metadata": {},
   "source": [
    "### Variance"
   ]
  },
  {
   "cell_type": "markdown",
   "metadata": {},
   "source": [
    "Given distribution $X\\sim B(n,p)$, $\\text{Var}(X)=np(1-p)$"
   ]
  },
  {
   "cell_type": "markdown",
   "metadata": {},
   "source": [
    "#### Proof"
   ]
  },
  {
   "cell_type": "markdown",
   "metadata": {},
   "source": [
    "Given distribution $X\\sim B(n,p)$, let $X=X_1+\\cdots+X_n$ where $X_i$ are independent Bernoulli distributions. Since the $X_i$ are independent, $\\forall i\\ne j$ $\\text{Cov}(X_i,X_j)=0$.\n",
    "\n",
    "$\\implies\\text{Var}(X)=\\sum\\limits_{i=1}^n\\text{Var}(X_i)=\\sum\\limits_{i=1}^np(p-1)=np(p-1)$"
   ]
  },
  {
   "cell_type": "markdown",
   "metadata": {
    "tags": [
     "remove-cell"
    ]
   },
   "source": [
    "%%latex\n",
    "\\pagebreak"
   ]
  },
  {
   "cell_type": "markdown",
   "metadata": {},
   "source": [
    "### Example: 10 Coin Flips"
   ]
  },
  {
   "cell_type": "markdown",
   "metadata": {},
   "source": [
    "For  our example we will simulate 10 coin flips with an unfair coin that has probability of success 0.8, which gives  us a distribution of $\\cal{B}(10,0.8)$."
   ]
  },
  {
   "cell_type": "markdown",
   "metadata": {},
   "source": [
    "**Table for PMF and CDF**"
   ]
  },
  {
   "cell_type": "code",
   "execution_count": 23,
   "metadata": {
    "ExecuteTime": {
     "end_time": "2020-11-15T05:06:04.004097Z",
     "start_time": "2020-11-15T05:06:03.995989Z"
    }
   },
   "outputs": [
    {
     "name": "stdout",
     "output_type": "stream",
     "text": [
      " value   probability  cumulative probability\n",
      "     0  1.024000e-07            1.024000e-07\n",
      "     1  4.096000e-06            4.198400e-06\n",
      "     2  7.372800e-05            7.792640e-05\n",
      "     3  7.864320e-04            8.643584e-04\n",
      "     4  5.505024e-03            6.369382e-03\n",
      "     5  2.642412e-02            3.279350e-02\n",
      "     6  8.808038e-02            1.208739e-01\n",
      "     7  2.013266e-01            3.222005e-01\n",
      "     8  3.019899e-01            6.241904e-01\n",
      "     9  2.684355e-01            8.926258e-01\n",
      "    10  1.073742e-01            1.000000e+00\n"
     ]
    }
   ],
   "source": [
    "from math import factorial\n",
    "import numpy as np\n",
    "import pandas as pd\n",
    "\n",
    "def  comb(n,k):\n",
    "    return factorial(n)/(factorial(k)*factorial(n-k))\n",
    "\n",
    "k = [i for i in range(11)]\n",
    "pmf = [comb(10,i)*(0.8**i)*(0.2**(10-i)) for i in range(11)]\n",
    "cdf = np.cumsum(pmf)\n",
    "\n",
    "probabilities = {\"value\": k, \"probability\": pmf, \n",
    "                 \"cumulative probability\": cdf}\n",
    "\n",
    "data = pd.DataFrame(probabilities)\n",
    "print(data.to_string(index=False))"
   ]
  },
  {
   "cell_type": "markdown",
   "metadata": {
    "tags": [
     "remove-cell"
    ]
   },
   "source": [
    "%%latex\n",
    "\\pagebreak"
   ]
  },
  {
   "cell_type": "markdown",
   "metadata": {},
   "source": [
    "**PMF:** Given distribution $X\\sim B(n,p)$, $\\forall k\\in\\{0,\\cdots,10\\}$, $f_{\\cal{B}}(k)=P(X=k)={10\\choose k}0.8^k0.2^{10-k}$"
   ]
  },
  {
   "cell_type": "markdown",
   "metadata": {},
   "source": [
    "**Graph for PMF**"
   ]
  },
  {
   "cell_type": "code",
   "execution_count": 10,
   "metadata": {
    "ExecuteTime": {
     "end_time": "2020-11-15T04:11:10.727210Z",
     "start_time": "2020-11-15T04:11:10.624241Z"
    }
   },
   "outputs": [
    {
     "data": {
      "text/plain": [
       "Text(0.5, 1.0, 'PMF')"
      ]
     },
     "execution_count": 10,
     "metadata": {},
     "output_type": "execute_result"
    },
    {
     "data": {
      "image/png": "[encoded data removed]",
      "text/plain": [
       "<Figure size 432x288 with 1 Axes>"
      ]
     },
     "metadata": {
      "needs_background": "light"
     },
     "output_type": "display_data"
    }
   ],
   "source": [
    "import matplotlib.pyplot as plt\n",
    "\n",
    "plt.plot(k, pmf, 'ro')\n",
    "plt.ylim((0,1))\n",
    "plt.xlabel(\"Value\")\n",
    "plt.ylabel(\"Probability\")\n",
    "plt.title(\"PMF\")"
   ]
  },
  {
   "cell_type": "markdown",
   "metadata": {
    "tags": [
     "remove-cell"
    ]
   },
   "source": [
    "%%latex\n",
    "\\pagebreak"
   ]
  },
  {
   "cell_type": "markdown",
   "metadata": {},
   "source": [
    "**CDF:** $\\forall x\\in\\mathbb{R}$ $F_{\\cal{B}}(x)=P(X\\le x)=\\sum\\limits_{i=1}^{\\lfloor x\\rfloor}{10\\choose i}0.8^i0.2^{10-i}$"
   ]
  },
  {
   "cell_type": "markdown",
   "metadata": {},
   "source": [
    "**Graph for CDF**"
   ]
  },
  {
   "cell_type": "code",
   "execution_count": 24,
   "metadata": {
    "ExecuteTime": {
     "end_time": "2020-11-15T05:06:08.952691Z",
     "start_time": "2020-11-15T05:06:08.836225Z"
    }
   },
   "outputs": [
    {
     "data": {
      "text/plain": [
       "Text(0.5, 1.0, 'CDF for Flipping Coin 10 Times')"
      ]
     },
     "execution_count": 24,
     "metadata": {},
     "output_type": "execute_result"
    },
    {
     "data": {
      "image/png": "[encoded data removed]",
      "text/plain": [
       "<Figure size 432x288 with 1 Axes>"
      ]
     },
     "metadata": {
      "needs_background": "light"
     },
     "output_type": "display_data"
    }
   ],
   "source": [
    "fig, ax = plt.subplots()\n",
    "\n",
    "# https://matplotlib.org/api/_as_gen/matplotlib.axes.Axes.hlines.html\n",
    "ax.hlines(y=cdf[:-1], xmin=k[:-1], xmax=k[1:],\n",
    "          zorder=1)\n",
    "\n",
    "ax.hlines(y=[0], xmin=[-1], xmax=[0],\n",
    "          zorder=1)\n",
    "\n",
    "ax.hlines(y=[1], xmin=[10], xmax=[11],\n",
    "          zorder=1)\n",
    "\n",
    "# https://matplotlib.org/api/_as_gen/matplotlib.axes.Axes.vlines.html\n",
    "ax.vlines(x=k[1:], ymin=cdf, ymax=cdf[1:], \n",
    "          linestyle='dashed', zorder=1)\n",
    "\n",
    "ax.vlines(x=[0], ymin=[0], ymax=cdf[0], \n",
    "          linestyle='dashed', zorder=1)\n",
    "\n",
    "ax.scatter(k,cdf)\n",
    "plt.xlabel(\"Number of Heads\")\n",
    "plt.ylabel(\"Cumulative Probability\")\n",
    "#plt.ylim((0,1.25))\n",
    "plt.title(\"CDF for Flipping Coin 10 Times\")"
   ]
  },
  {
   "cell_type": "markdown",
   "metadata": {},
   "source": [
    "**Mean:** $\\mu=10\\cdot0.8=8$"
   ]
  },
  {
   "cell_type": "markdown",
   "metadata": {},
   "source": [
    "**Variance:** $10\\cdot0.8\\cdot0.2=1.6$"
   ]
  },
  {
   "cell_type": "markdown",
   "metadata": {
    "tags": [
     "remove-cell"
    ]
   },
   "source": [
    "%%latex\n",
    "\\pagebreak"
   ]
  },
  {
   "cell_type": "markdown",
   "metadata": {},
   "source": [
    "## Poisson Distribution"
   ]
  },
  {
   "cell_type": "markdown",
   "metadata": {},
   "source": [
    "The Poisson distribution with parameter $\\lambda > 0$, denoted $\\text{Pois}(\\lambda)$, is the probability, describes the probability that a certain number of events will occur within a fixed time or space. In other words, the support of the distribution is all integers in the interval $[0,\\infty)$ (sometimes denoted as $\\mathbb{N}_0$)"
   ]
  },
  {
   "cell_type": "markdown",
   "metadata": {},
   "source": [
    "The Poisson distribution makes the following assumptions:\n",
    "\n",
    "1. The average rate is independent of any occurrences. Often we assume that events occur with a constant mean rate, but we can relax this assumption to  a time-varying mean\n",
    "2. Events occur independently of the time since the last event\n",
    "3. Two events cannot occur at the same time\n",
    "\n",
    "Examples of a Poisson distribution are the number of hits in a certain website in a day, and the number of meteors bigger than 100m in diameter that hit Earth, or the number of salmon that swim up a certain river in a week."
   ]
  },
  {
   "cell_type": "markdown",
   "metadata": {},
   "source": [
    "The Poisson distribution makes the following assumptions:\n",
    "\n",
    "1. The average rate is independent of any occurrences. Often we assume that events occur with a constant mean rate, but we can relax this assumption to  a time-varying mean\n",
    "2. Events occur independently of the time since the last event\n",
    "3. Two events cannot occur at the same time\n",
    "\n",
    "Examples of a Poisson distribution are the number of hits in a certain website in a day, and the number of meteors bigger than 100m in diameter that hit Earth, or the number of salmon that swim up a certain river in a week."
   ]
  },
  {
   "cell_type": "markdown",
   "metadata": {},
   "source": [
    "### Poisson Distribution as a Limiting Case of Binomial Distribution"
   ]
  },
  {
   "cell_type": "markdown",
   "metadata": {},
   "source": [
    "This discussion is meant to provide some intuition for the Poisson distribution, and how this distribution is related to its binomial cousin.\n",
    "\n",
    "Suppose we have some proccess modeled by a binomial distribution $X$ where the number of trials is a random variable N. Furthermore, we do not know the probability of an event, but we are given the average rate for a certain time interval $\\lambda$. In this case, $\\lambda$ is related to the probability $p$ by $\\lambda=Np\\implies p=\\frac{\\lambda}{N}$. For this process, we want to evaluate the probability that the proccess has $k$ successes for $N$ trials, and we take the limit as $N\\to\\infty$ to simulate the event having low probability.\n",
    "\n",
    "\\begin{align}\n",
    "P(X=k)&=\\lim\\limits_{N\\to\\infty}{N\\choose k}p^k(1-p)^{N-k}=\\lim\\limits_{N\\to\\infty}\\frac{N!}{k!(N-k)!}\\bigg(\\frac{\\lambda}{N}\\bigg)^k\\bigg(1-\\frac{\\lambda}{N}\\bigg)^{N-k} \\\\\n",
    "&=\\lim\\limits_{N\\to\\infty}\\frac{N!}{k!(N-k)!}\\bigg(\\frac{\\lambda}{N}\\bigg)^k\\bigg(1-\\frac{\\lambda}{N}\\bigg)^N\\bigg(1-\\frac{\\lambda}{N}\\bigg)^{-k} \\\\\n",
    "&=\\frac{\\lambda^k}{k!}\\lim\\limits_{N\\to\\infty}\\frac{N!}{(N-k)!N^k}\\lim\\limits_{N\\to\\infty}\\bigg(1-\\frac{\\lambda}{N}\\bigg)^N\\lim\\limits_{N\\to\\infty}\\bigg(1-\\frac{\\lambda}{N}\\bigg)^{-k}\n",
    "\\end{align}"
   ]
  },
  {
   "cell_type": "markdown",
   "metadata": {},
   "source": [
    "There are $N$ terms in $N!$ and $N-k$ terms in $(N-k)!$, which means that there are $N-(N-k)=k$ terms in $N(N-1)\\cdots(N-k+1)$.\n",
    "\n",
    "$\\lim\\limits_{N\\to\\infty}\\frac{N!}{(N-k)!N^k}=\\lim\\limits_{N\\to\\infty}\\frac{N(N-1)\\cdots(N-k+1)}{N^k}=\\lim\\limits_{N\\to\\infty}\\bigg(\\frac{N}{N}\\bigg)\\bigg(\\frac{N-1}{N}\\bigg)\\cdots\\bigg(\\frac{N-k+1}{N}\\bigg)=1$\n",
    "\n",
    "$\\lim\\limits_{N\\to\\infty}\\bigg(1-\\frac{\\lambda}{N}\\bigg)^N=\\lim\\limits_{N\\to\\infty}\\Bigg(\\bigg(1+\\frac{1}{-\\frac{N}{\\lambda}}\\bigg)^{-N/\\lambda}\\Bigg)^{-\\lambda}=\\Bigg(\\lim\\limits_{-\\frac{N}{\\lambda}\\to-\\infty}\\bigg(1+\\frac{1}{-\\frac{N}{\\lambda}}\\bigg)^{-N/\\lambda}\\Bigg)^{-\\lambda}=e^{-\\lambda}$\n",
    "\n",
    "$\\lim\\limits_{N\\to\\infty}\\bigg(1-\\frac{\\lambda}{N}\\bigg)^{-k}=\\lim\\limits_{N\\to\\infty}1^{-k}=1$\n",
    "\n",
    "$\\implies P(X=k)=\\frac{\\lambda^k}{k!}\\lim\\limits_{N\\to\\infty}\\frac{N!}{(N-k)!N^k}\\lim\\limits_{N\\to\\infty}\\bigg(1-\\frac{\\lambda}{N}\\bigg)^N\\lim\\limits_{N\\to\\infty}\\bigg(1-\\frac{\\lambda}{N}\\bigg)^{-k}=\\frac{\\lambda^ke^{-\\lambda}}{k!}$"
   ]
  },
  {
   "cell_type": "markdown",
   "metadata": {},
   "source": [
    "We have shown that the Poisson distribution can be seen as the limit of a binomial random variable for a process with constant average rate $\\lambda$ in a given time interval and small probability."
   ]
  },
  {
   "cell_type": "markdown",
   "metadata": {},
   "source": [
    "### PMF"
   ]
  },
  {
   "cell_type": "markdown",
   "metadata": {},
   "source": [
    "Given distribution $X\\sim\\text{Pois}(\\lambda)$, $f_X(k;\\lambda)=P(X=k)=\\frac{\\lambda^ke^{-\\lambda}}{k!}$"
   ]
  },
  {
   "cell_type": "markdown",
   "metadata": {},
   "source": [
    "### CDF"
   ]
  },
  {
   "cell_type": "markdown",
   "metadata": {},
   "source": [
    "Given $X\\sim\\text{Pois}(\\lambda)$, $F_X(k;\\lambda)=P(X\\le x)=e^{-\\lambda}\\sum\\limits_{i=0}^k\\frac{\\lambda^i}{i!}=\\frac{\\Gamma(k+1, \\lambda)}{k!}$ where $\\Gamma(s,x)=\\int_x^\\infty t^{s-1}e^{-t}dt$ is the upper incomplete Gamma function"
   ]
  },
  {
   "cell_type": "markdown",
   "metadata": {
    "ExecuteTime": {
     "end_time": "2020-11-20T17:01:59.915066Z",
     "start_time": "2020-11-20T17:01:59.912997Z"
    }
   },
   "source": [
    "#### Proof"
   ]
  },
  {
   "cell_type": "markdown",
   "metadata": {},
   "source": [
    "We will show that $e^{-\\lambda}\\sum\\limits_{i=0}^k\\frac{\\lambda^k}{k!}=\\frac{\\Gamma(k+1,\\lambda)}{k!}$ by induction. We will first show the base case for $k=0$."
   ]
  },
  {
   "cell_type": "markdown",
   "metadata": {},
   "source": [
    "$e^{-\\lambda}\\sum\\limits_{i=0}^k\\frac{\\lambda^0}{0!}=e^{-\\lambda}\\frac{1}{1}=e^{-\\lambda}$\n",
    "\n",
    "$\\frac{\\Gamma(0+1,\\lambda)}{0!}=\\frac{\\Gamma(1,\\lambda)}{1}=\\int_\\lambda^\\infty t^{1-1}e^{-t}dt=\\int_\\lambda^\\infty e^{-t}dt=-e^{-t}\\big|_{t=\\lambda}^\\infty=e^{-\\lambda}$"
   ]
  },
  {
   "cell_type": "markdown",
   "metadata": {},
   "source": [
    "Since we approved the base case, we will assume now that $e^{-\\lambda}\\sum\\limits_{i=0}^k\\frac{\\lambda^i}{i!}=\\frac{\\Gamma(k+1, \\lambda)}{k!}$ for all $k\\in\\mathbb{N}_0$. We now need to show that this relation holds true for $k+1$."
   ]
  },
  {
   "cell_type": "markdown",
   "metadata": {},
   "source": [
    "We will use integration by parts to prove this portion.\n",
    "\n",
    "$\\Gamma((k+1)+1,\\lambda)=\\int_\\lambda^\\infty t^{k+1}e^{-t}dt$\n",
    "\n",
    "let $dv=e^{-t}dt\\implies v=-e^{-t}$ and $u=t^{k+1}\\implies du=(k+1)t^kdt$.\n",
    "\n",
    "\\begin{align}\n",
    "\\Gamma((k+1)+1,\\lambda)&=\\int_\\lambda^\\infty t^{k+1}e^{-t}dt=-t^{k+1}e^{-t}\\big|_{t=\\lambda}^\\infty-(k+1)\\int_{t=\\lambda}^\\infty(-t^ke^{-t})dt \\\\\n",
    "&=\\lambda^{k+1} e^{-\\lambda}+(k+1)\\int_{t=\\lambda}^\\infty t^ke^{-t}dt=\\lambda^{k+1} e^{-\\lambda}+(k+1)\\Gamma(k+1,\\lambda)\n",
    "\\end{align}"
   ]
  },
  {
   "cell_type": "markdown",
   "metadata": {},
   "source": [
    "\\begin{align}\n",
    "\\frac{\\Gamma((k+1)+1,\\lambda)}{(k+1)!}&=\\frac{\\lambda^{k+1} e^{-\\lambda}+(k+1)\\Gamma(k+1,\\lambda)}{(k+1)!}=\\frac{\\lambda^{k+1} e^{-\\lambda}}{(k+1)!}+(k+1)\\frac{\\Gamma(k+1,\\lambda)}{(k+1)!} \\\\\n",
    "&=\\frac{\\lambda^{k+1} e^{-\\lambda}}{(k+1)!}+\\frac{\\Gamma(k+1,\\lambda)}{k!}=\\frac{\\lambda^{k+1} e^{-\\lambda}}{(k+1)!}+e^{-\\lambda}\\sum\\limits_{i=0}^k\\frac{\\lambda^i}{i!}=e^{-\\lambda}\\sum\\limits_{i=0}^{k+1}\\frac{\\lambda^i}{i!} \\\\\n",
    "\\end{align}"
   ]
  },
  {
   "cell_type": "markdown",
   "metadata": {},
   "source": [
    "### Recurrence Relation for Upper Incomplete Gamma Function"
   ]
  },
  {
   "cell_type": "markdown",
   "metadata": {},
   "source": [
    "$\\Gamma(s+1,x)=s\\Gamma(s,x)+x^se^{-x}$"
   ]
  },
  {
   "cell_type": "markdown",
   "metadata": {},
   "source": [
    "#### Proof"
   ]
  },
  {
   "cell_type": "markdown",
   "metadata": {},
   "source": [
    "Similar to the proof for the CDF above, we will use integration by parts.\n",
    "\n",
    "$\\Gamma(s+1,x)=\\int_x^\\infty t^s e^{-x}dt$\n",
    "\n",
    "let $dv=e^{-t}dt\\implies v=-e^{-t}$ and $u=t^s\\implies du=s t^{s-1}dt$.\n",
    "\n",
    "\\begin{align}\n",
    "\\Gamma(s+1,x)&=\\int_x^\\infty t^{s}e^{-t}dt=-t^{s}e^{-t}\\big|_{t=x}^\\infty-s\\int_{t=x}^\\infty(-t^{s-1}e^{-t})dt \\\\\n",
    "&=x^{s} e^{-x}+s\\int_{t=x}^\\infty t^{s-1}e^{-t}dt=x^{s} e^{-x}+s\\Gamma(s,x)\n",
    "\\end{align}"
   ]
  },
  {
   "cell_type": "markdown",
   "metadata": {},
   "source": [
    "### Sum of Poisson"
   ]
  },
  {
   "cell_type": "markdown",
   "metadata": {},
   "source": [
    "Given random variables $X_1,\\cdots,X_n$ where $X_i\\sim\\text{Pois}(\\lambda_i)$ are independent, then $Y=\\sum\\limits_{i=1}^nX_i\\sim\\text{Pois}\\bigg(\\sum\\limits_{i=1}^n\\lambda_i\\bigg)$"
   ]
  },
  {
   "cell_type": "markdown",
   "metadata": {},
   "source": [
    "#### Proof"
   ]
  },
  {
   "cell_type": "markdown",
   "metadata": {},
   "source": [
    "Suppose we have two independent random variables $X_1\\sim\\text{Pois}(\\lambda_1)$ and $X_2\\sim\\text{Pois}(\\lambda_2)$. Let $Y=X_1+X_2$."
   ]
  },
  {
   "cell_type": "markdown",
   "metadata": {},
   "source": [
    "\\begin{align}\n",
    "f_Y(k)&=P(Y=k)=\\sum_{j=0}^kP(X_1 = j \\& X_2 = k-j)=\\sum_{j=0}^kP(X_1=j)P(X_2=k-j) \\\\\n",
    "&=\\sum_{j=0}^k\\frac{\\lambda_1^j e^{-\\lambda_1}}{j!}\\frac{\\lambda_2^{k-j}e^{-\\lambda_2}}{(k-j)!}=e^{-(\\lambda_1+\\lambda_2)}\\sum_{j=0}^k\\frac{\\lambda_1^j \\lambda_2^{k-j}}{j!(k-j)!}=e^{-(\\lambda_1+\\lambda_2)}\\sum_{j=0}^k\\frac{k!}{j!(k-j)!}\\frac{\\lambda_1^j \\lambda_2^{k-j}}{k!} \\\\\n",
    "&=\\frac{e^{-(\\lambda_1+\\lambda_2)}}{k!}\\sum_{j=0}^k{k\\choose j}\\lambda_1^j \\lambda_2^{k-j}=\\frac{e^{-(\\lambda_1+\\lambda_2)}}{k!}(\\lambda_1+\\lambda_2)^k\n",
    "\\end{align}\n",
    "$\\therefore Y\\sim\\text{Pois}(\\lambda_1+\\lambda_2)$"
   ]
  },
  {
   "cell_type": "markdown",
   "metadata": {},
   "source": [
    "The above is sufficient for an arbitrary number of independent random variables $X_1,\\cdots,X_n$. If we sum two of the variables $X_1$ and $X_2$, we get $A=X_1+X_2\\sim\\text{Pois}(\\lambda_A=\\lambda_1+\\lambda_2)$. We may then construct $B=A+X_3\\sim\\text{Pois}(\\lambda_B=\\lambda_A+\\lambda_3=\\lambda_1+\\lambda_2+\\lambda_3)$. We can continue this process until we have $Y=X_1+\\cdots+X_n\\sim\\text{Pois}(\\lambda_Y=\\lambda_1+\\cdots+\\lambda_n)$"
   ]
  },
  {
   "cell_type": "markdown",
   "metadata": {},
   "source": [
    "### Mean"
   ]
  },
  {
   "cell_type": "markdown",
   "metadata": {},
   "source": [
    "Given $X\\sim\\text{Pois}(\\lambda)$, $\\mathbb{E}[X]=\\lambda$"
   ]
  },
  {
   "cell_type": "markdown",
   "metadata": {},
   "source": [
    "#### Proof"
   ]
  },
  {
   "cell_type": "markdown",
   "metadata": {},
   "source": [
    "In the proof below, we will use the calculus II fact that the Taylor series for $e^\\lambda$ is given by $\\sum\\limits_{i=0}^\\infty\\frac{\\lambda^i}{i!}$."
   ]
  },
  {
   "cell_type": "markdown",
   "metadata": {},
   "source": [
    ".\n",
    "\\begin{align}\n",
    "\\mathbb{E}[X]&=\\sum\\limits_{i=0}^\\infty i\\frac{\\lambda^ie^{-\\lambda}}{i!}=\\lambda e^{-\\lambda}\\sum\\limits_{i=0}^\\infty i\\frac{\\lambda^{i-1}}{i!} \\\\\n",
    "&=\\lambda e^{-\\lambda}\\sum\\limits_{i=0}^\\infty\\frac{\\lambda^{i-1}}{(i-1)!}=0+\\lambda e^{-\\lambda}\\sum\\limits_{i=1}^\\infty\\frac{\\lambda^{i-1}}{(i-1)!}=\\lambda e^{-\\lambda}\\sum\\limits_{i=1}^\\infty\\frac{\\lambda^{i-1}}{(i-1)!} \\\\\n",
    "&=\\lambda e^{-\\lambda}\\sum\\limits_{i=0}^\\infty\\frac{\\lambda^{i}}{i!}=\\lambda e^{-\\lambda}e^{\\lambda}=\\lambda \\\\\n",
    "\\end{align}\n"
   ]
  },
  {
   "cell_type": "markdown",
   "metadata": {},
   "source": [
    "### Variance"
   ]
  },
  {
   "cell_type": "markdown",
   "metadata": {},
   "source": [
    "Given $X\\sim\\text{Pois}(\\lambda)$, $\\text{Var}(X)=\\lambda$"
   ]
  },
  {
   "cell_type": "markdown",
   "metadata": {},
   "source": [
    "#### Proof"
   ]
  },
  {
   "cell_type": "markdown",
   "metadata": {},
   "source": [
    "**Lemma:** Given random variable X, $\\text{Var}(X)=\\mathbb{E}[(X-E[X])^2]=\\mathbb{E}[X(X-1)]+\\mathbb{E}[X]+\\mathbb{E}[X]^2$"
   ]
  },
  {
   "cell_type": "markdown",
   "metadata": {},
   "source": [
    "**Lemma:** Given random variable X, $\\text{Var}(X)=\\mathbb{E}[(X-E[X])^2]=\\mathbb{E}[X(X-1)]+\\mathbb{E}[X]+\\mathbb{E}[X]^2$\n",
    "\\begin{align}\n",
    "\\mathbb{E}[(X-E[X])^2]&=\\mathbb{E}[X^2]-E[X]^2=\\mathbb{E}[X(X-1)+X]-E[X]^2 \\\\\n",
    "&=\\mathbb{E}[X(X-1)]+\\mathbb{E}[X]-E[X]^2\n",
    "\\end{align}\n"
   ]
  },
  {
   "cell_type": "markdown",
   "metadata": {},
   "source": [
    "**Claim:** Given $X\\sim\\text{Pois}(\\lambda)$, $\\text{Var}(X)=\\lambda$"
   ]
  },
  {
   "cell_type": "markdown",
   "metadata": {},
   "source": [
    "In the proof below, we will use the calculus II fact that the Taylor series for $e^\\lambda$ is $\\sum\\limits_{i=0}^\\infty\\frac{\\lambda^i}{i!}$. "
   ]
  },
  {
   "cell_type": "markdown",
   "metadata": {},
   "source": [
    "Let us first find the value for $\\mathbb{E}[X(X-1)]$\n",
    "\n",
    "\\begin{align}\n",
    "\\mathbb{E}[X(X-1)]&=\\sum\\limits_{i=0}^\\infty i\\cdot(i-1)\\frac{\\lambda^ie^{-\\lambda}}{i!}=\\lambda^2e^{-\\lambda}\\sum\\limits_{i=0}^\\infty i\\cdot(i-1)\\frac{\\lambda^(i-2)}{i!} \\\\\n",
    "&=0+0+\\lambda^2e^{-\\lambda}\\sum\\limits_{i=2}^\\infty i\\cdot(i-1)\\frac{\\lambda^(i-2)}{i!}=\\lambda^2e^{-\\lambda}\\sum\\limits_{i=2}^\\infty \\frac{\\lambda^(i-2)}{(i-2)!} \\\\\n",
    "&=\\lambda^2e^{-\\lambda}\\sum\\limits_{i=0}^\\infty\\frac{\\lambda^i}{i!}=\\lambda^2e^{-\\lambda}e^\\lambda=\\lambda^2\n",
    "\\end{align}"
   ]
  },
  {
   "cell_type": "markdown",
   "metadata": {
    "ExecuteTime": {
     "end_time": "2020-11-20T16:57:16.343363Z",
     "start_time": "2020-11-20T16:57:16.339141Z"
    }
   },
   "source": [
    "$\\implies\\text{Var}(X)=\\mathbb{E}[X(X-1)]+\\mathbb{E}[X]+\\mathbb{E}[X]^2=\\lambda^2+\\lambda-\\lambda^2=\\lambda$"
   ]
  },
  {
   "cell_type": "markdown",
   "metadata": {},
   "source": [
    "### Mode"
   ]
  },
  {
   "cell_type": "markdown",
   "metadata": {},
   "source": [
    "Given $X\\sim\\text{Pois}(\\lambda)$, if $\\lambda$ is not an integer, then $\\lfloor\\lambda\\rfloor$ is the mode. If $\\lambda$ is an integer, the mode is either $\\lambda$ or $\\lambda-1$."
   ]
  },
  {
   "cell_type": "markdown",
   "metadata": {},
   "source": [
    "#### Proof"
   ]
  },
  {
   "cell_type": "markdown",
   "metadata": {},
   "source": [
    "First we will consider the case when $\\lambda<1$. In this case, the $\\lambda^k$ term in the numerator of the PMF means that the value for the PMF decreases as k increases. Since the probability monotonically decreases, the mode in this instance is 0. This agrees with the claim since $\\lfloor\\lambda\\rfloor=0$ when $\\lambda < 0$."
   ]
  },
  {
   "cell_type": "markdown",
   "metadata": {},
   "source": [
    "Now consider the case when $\\lambda > 1$. The mode will be the smallest value such that the inequality $\\frac{P(X=k)}{P(X=k+1)}\\ge1$ is satisfied. This is because if we heuristically look at the PMF of the Poisson distribution, the exponential will cause growth until the factorial function starts dominating, at which point the PMF will continually decrease. \n",
    "\n",
    "$\\frac{P(X=k)}{P(X=k+1)}=\\frac{\\frac{e^{-\\lambda}\\lambda^k}{k!}}{\\frac{e^{-\\lambda}\\lambda^{k+1}}{(k+1)!}}=\\frac{k+1}{\\lambda}\\ge1$\n",
    "$\\implies k\\ge\\lambda - 1$\n",
    "\n",
    "If $\\lambda$ is non-integral, then then k is greater than $\\lambda-1$ when $\\lfloor\\lambda\\rfloor$. If $\\lambda$ is an integer, then the mode is either $\\lambda$ or $\\lambda-1$"
   ]
  },
  {
   "cell_type": "markdown",
   "metadata": {},
   "source": [
    "### Example: Number of Meteors"
   ]
  },
  {
   "cell_type": "markdown",
   "metadata": {},
   "source": [
    "For  our example we will simulate the number of meteors that hit the Earth. This is a contrived example, so the value for $\\lambda$ will be arbitrarily chosen.\n",
    "\n",
    "Moreover, since the support is all $k\\in\\mathbb{N}_0$, we will only use a small subset of k values. An estimated [500 meteors](https://www.psi.edu/epo/faq/meteor.html#:~:text=It%20is%20estimated%20that%20probably,less%20than%2010%20are%20recovered) hit Earth every year, but I will use a much lower value for $\\lambda$ for didactic purposes."
   ]
  },
  {
   "cell_type": "markdown",
   "metadata": {},
   "source": [
    "**Table for PMF and CDF**"
   ]
  },
  {
   "cell_type": "code",
   "execution_count": 17,
   "metadata": {
    "ExecuteTime": {
     "end_time": "2020-11-21T04:59:17.959248Z",
     "start_time": "2020-11-21T04:59:17.952747Z"
    }
   },
   "outputs": [
    {
     "name": "stdout",
     "output_type": "stream",
     "text": [
      " value   probability  cumulative probability\n",
      "     0  2.753645e-05                0.000028\n",
      "     1  2.891327e-04                0.000317\n",
      "     2  1.517947e-03                0.001835\n",
      "     3  5.312814e-03                0.007147\n",
      "     4  1.394614e-02                0.021094\n",
      "     5  2.928689e-02                0.050380\n",
      "     6  5.125205e-02                0.101633\n",
      "     7  7.687807e-02                0.178511\n",
      "     8  1.009025e-01                0.279413\n",
      "     9  1.177196e-01                0.397133\n",
      "    10  1.236055e-01                0.520738\n",
      "    11  1.179871e-01                0.638725\n",
      "    12  1.032387e-01                0.741964\n",
      "    13  8.338511e-02                0.825349\n",
      "    14  6.253883e-02                0.887888\n",
      "    15  4.377718e-02                0.931665\n",
      "    16  2.872878e-02                0.960394\n",
      "    17  1.774424e-02                0.978138\n",
      "    18  1.035081e-02                0.988489\n",
      "    19  5.720184e-03                0.994209\n",
      "    20  3.003097e-03                0.997212\n",
      "    21  1.501548e-03                0.998714\n",
      "    22  7.166481e-04                0.999430\n",
      "    23  3.271654e-04                0.999758\n",
      "    24  1.431349e-04                0.999901\n",
      "    25  6.011665e-05                0.999961\n",
      "    26  2.427788e-05                0.999985\n",
      "    27  9.441396e-06                0.999995\n",
      "    28  3.540524e-06                0.999998\n",
      "    29  1.281914e-06                0.999999\n",
      "    30  4.486698e-07                1.000000\n"
     ]
    }
   ],
   "source": [
    "from math import factorial, exp\n",
    "import numpy as np\n",
    "import pandas as pd\n",
    "\n",
    "lambda_ = 10.5\n",
    "k = [i for i in range(31)]\n",
    "pmf = [(lambda_**i) * exp(-lambda_)/factorial(i) for i in k]\n",
    "cdf = np.cumsum(pmf)\n",
    "\n",
    "probabilities = {\"value\": k, \"probability\": pmf, \n",
    "                 \"cumulative probability\": cdf}\n",
    "\n",
    "data = pd.DataFrame(probabilities)\n",
    "print(data.to_string(index=False))"
   ]
  },
  {
   "cell_type": "markdown",
   "metadata": {
    "tags": [
     "remove-cell"
    ]
   },
   "source": [
    "%%latex\n",
    "\\pagebreak"
   ]
  },
  {
   "cell_type": "markdown",
   "metadata": {},
   "source": [
    "**PMF:** Given distribution $X\\sim \\text{Pois}(10.5)$, $\\forall k\\in\\mathbb{N}_0$, $f_{\\cal{B}}(k)=P(X=k)=\\frac{10.5^k e^{-10.5}}{k!}$"
   ]
  },
  {
   "cell_type": "markdown",
   "metadata": {},
   "source": [
    "**Graph for PMF**"
   ]
  },
  {
   "cell_type": "code",
   "execution_count": 24,
   "metadata": {
    "ExecuteTime": {
     "end_time": "2020-11-21T05:09:47.797609Z",
     "start_time": "2020-11-21T05:09:47.689674Z"
    }
   },
   "outputs": [
    {
     "data": {
      "text/plain": [
       "Text(0.5, 1.0, 'PMF')"
      ]
     },
     "execution_count": 24,
     "metadata": {},
     "output_type": "execute_result"
    },
    {
     "data": {
      "image/png": "[encoded data removed]",
      "text/plain": [
       "<Figure size 432x288 with 1 Axes>"
      ]
     },
     "metadata": {
      "needs_background": "light"
     },
     "output_type": "display_data"
    }
   ],
   "source": [
    "import matplotlib.pyplot as plt\n",
    "\n",
    "plt.plot(k, pmf, 'ro')\n",
    "plt.ylim((0,0.15))\n",
    "plt.xlabel(\"Number of Meteors\")\n",
    "plt.ylabel(\"Probability\")\n",
    "plt.title(\"PMF\")"
   ]
  },
  {
   "cell_type": "markdown",
   "metadata": {
    "tags": [
     "remove-cell"
    ]
   },
   "source": [
    "%%latex\n",
    "\\pagebreak"
   ]
  },
  {
   "cell_type": "markdown",
   "metadata": {},
   "source": [
    "**CDF:** $\\forall x\\in\\mathbb{R}$ $F_{\\cal{B}}(x)=P(X\\le x)=e^{-10.5}\\sum\\limits_{i=1}^{k}\\frac{10.5^k e^{-10.5}}{k!}=\\frac{\\Gamma(k+1,10.5)}{k!}$"
   ]
  },
  {
   "cell_type": "markdown",
   "metadata": {},
   "source": [
    "**Graph for CDF**"
   ]
  },
  {
   "cell_type": "code",
   "execution_count": 23,
   "metadata": {
    "ExecuteTime": {
     "end_time": "2020-11-21T05:09:32.299978Z",
     "start_time": "2020-11-21T05:09:32.196028Z"
    }
   },
   "outputs": [
    {
     "data": {
      "text/plain": [
       "Text(0.5, 1.0, 'CDF for Number of Meteors Hitting Earth')"
      ]
     },
     "execution_count": 23,
     "metadata": {},
     "output_type": "execute_result"
    },
    {
     "data": {
      "image/png": "[encoded data removed]",
      "text/plain": [
       "<Figure size 432x288 with 1 Axes>"
      ]
     },
     "metadata": {
      "needs_background": "light"
     },
     "output_type": "display_data"
    }
   ],
   "source": [
    "fig, ax = plt.subplots()\n",
    "\n",
    "# https://matplotlib.org/api/_as_gen/matplotlib.axes.Axes.hlines.html\n",
    "ax.hlines(y=cdf[:-1], xmin=k[:-1], xmax=k[1:],\n",
    "          zorder=1)\n",
    "\n",
    "ax.hlines(y=[0], xmin=[-1], xmax=[0],\n",
    "          zorder=1)\n",
    "\n",
    "ax.hlines(y=[1], xmin=[30], xmax=[31],\n",
    "          zorder=1)\n",
    "\n",
    "# https://matplotlib.org/api/_as_gen/matplotlib.axes.Axes.vlines.html\n",
    "ax.vlines(x=k[1:], ymin=cdf, ymax=cdf[1:], \n",
    "          linestyle='dashed', zorder=1)\n",
    "\n",
    "ax.vlines(x=[0], ymin=[0], ymax=cdf[0], \n",
    "          linestyle='dashed', zorder=1)\n",
    "\n",
    "ax.scatter(k,cdf)\n",
    "plt.xlabel(\"Number of Meteors\")\n",
    "plt.ylabel(\"Cumulative Probability\")\n",
    "plt.title(\"CDF for Number of Meteors Hitting Earth\")"
   ]
  },
  {
   "cell_type": "markdown",
   "metadata": {},
   "source": [
    "**Mean:** $10.5$"
   ]
  },
  {
   "cell_type": "markdown",
   "metadata": {},
   "source": [
    "**Variance:** $10.5$"
   ]
  },
  {
   "cell_type": "markdown",
   "metadata": {},
   "source": [
    "**Mode**: 10"
   ]
  },
  {
   "cell_type": "markdown",
   "metadata": {},
   "source": [
    "## Geometric Distribution"
   ]
  },
  {
   "cell_type": "markdown",
   "metadata": {},
   "source": [
    "The geometric distribution describes the situation where we repeat a Bernoulli trial with probability $p\\in[0,1]$ until we get a success.\n",
    "\n",
    "The support for the distribution is the number of trials, $k\\in\\mathbb{Z}^+$\n",
    "\n",
    "A cannonical example is flipping a coin until we get a heads."
   ]
  },
  {
   "cell_type": "markdown",
   "metadata": {},
   "source": [
    "### PMF"
   ]
  },
  {
   "cell_type": "markdown",
   "metadata": {},
   "source": [
    "Given distribution $X\\sim\\text{Geo}(p)$, $\\forall k\\in\\mathbb{Z}^+$, $f_X(k)=P(X=k)=(1-p)^{k-1}p$"
   ]
  },
  {
   "cell_type": "markdown",
   "metadata": {},
   "source": [
    "### CDF"
   ]
  },
  {
   "cell_type": "markdown",
   "metadata": {
    "ExecuteTime": {
     "end_time": "2020-11-22T23:38:35.287930Z",
     "start_time": "2020-11-22T23:38:35.283958Z"
    }
   },
   "source": [
    "Given distribution $X\\sim\\text{Geo}(p)$, $\\forall x\\in\\mathbb{R}$, $F_X(x)=\\begin{cases}0 & k<1 \\\\ 1-(1-p)^{\\lfloor k\\rfloor} & k\\ge1\\end{cases}$"
   ]
  },
  {
   "cell_type": "markdown",
   "metadata": {},
   "source": [
    "#### Proof"
   ]
  },
  {
   "cell_type": "markdown",
   "metadata": {},
   "source": [
    "The support is all positive integers, which means that any value less than 1 would have cumulative probability 0. For all $x\\in\\mathbb{R}$ in the region where $x\\ge1$, we have a geometric sum where the rate is $1-p$ and the initial value of the series at $x=1$ is $p$. We will use the formula for the sum of a finite geometric series to give us the CDF.\n",
    "\n",
    "$S_k=p\\bigg(\\frac{1-(1-p)^k}{1-(1-p)}\\bigg)=p\\bigg(\\frac{1-(1-p)^k}{p}\\bigg)=1-(1-p)^k$"
   ]
  },
  {
   "cell_type": "markdown",
   "metadata": {},
   "source": [
    "### Mean"
   ]
  },
  {
   "cell_type": "markdown",
   "metadata": {
    "ExecuteTime": {
     "end_time": "2020-11-23T00:03:30.469919Z",
     "start_time": "2020-11-23T00:03:30.466417Z"
    }
   },
   "source": [
    "Given distribution $X\\sim\\text{Geo}(p)$, $\\mathbb{E}[X]=\\frac{1}{p}$"
   ]
  },
  {
   "cell_type": "markdown",
   "metadata": {},
   "source": [
    "#### Proof"
   ]
  },
  {
   "cell_type": "markdown",
   "metadata": {},
   "source": [
    "**Lemma: $\\sum\\limits_{i=1}^\\infty k\\cdot (1-p)^{k-1}=\\sum\\limits_{k=1}^\\infty\\sum\\limits_{i=k}^\\infty (1-p)^{i-1}$**"
   ]
  },
  {
   "cell_type": "markdown",
   "metadata": {},
   "source": [
    "\\begin{align}\n",
    "\\sum\\limits_{i=1}^\\infty i\\cdot (1-p)^{i-1}&=\\sum\\limits_{i=1}^\\infty i\\cdot (1-p)^{i-1} \\\\\n",
    "&=\\sum\\limits_{i=1}^\\infty (1-p)^{i-1}+\\sum\\limits_{i=1}^\\infty (i-1)\\cdot (1-p)^{i-1}=\\sum\\limits_{i=1}^\\infty (1-p)^{i-1}+\\sum\\limits_{i=2}^\\infty (i-1)\\cdot (1-p)^{i-1} \\\\\n",
    "&=\\sum\\limits_{i=1}^\\infty (1-p)^{i-1}+\\sum\\limits_{i=2}^\\infty (1-p)^{i-1}+\\sum\\limits_{i=2}^\\infty (i-2)\\cdot (1-p)^{i-1} \\\\\n",
    "&=\\sum\\limits_{i=1}^\\infty (1-p)^{i-1}+\\sum\\limits_{i=2}^\\infty (1-p)^{i-1}+\\sum\\limits_{i=3}^\\infty (i-2)\\cdot (1-p)^{i-1} \\\\\n",
    "&=\\sum\\limits_{i=1}^\\infty (1-p)^{i-1}+\\sum\\limits_{i=2}^\\infty (1-p)^{i-1}+\\dots+\\sum\\limits_{i=k+1}^\\infty (i-k)\\cdot (1-p)^{i-1} \\\\\n",
    "\\end{align}"
   ]
  },
  {
   "cell_type": "markdown",
   "metadata": {},
   "source": [
    "If we let $k\\to\\infty$, we obtain"
   ]
  },
  {
   "cell_type": "markdown",
   "metadata": {},
   "source": [
    "\\begin{align}\n",
    "\\sum\\limits_{i=1}^\\infty (1-p)^{i-1}+\\sum\\limits_{i=2}^\\infty (1-p)^{i-1}+\\dots+\\sum\\limits_{i=k+1}^\\infty (i-k)\\cdot (1-p)^{i-1} &=\\sum\\limits_{i=1}^\\infty (1-p)^{i-1}+\\sum\\limits_{i=2}^\\infty (1-p)^{i-1}+\\sum\\limits_{i=3}^\\infty (1-p)^{i-1}+\\sum\\limits_{i=4}^\\infty (1-p)^{i-1}+\\dots \\\\\n",
    "&=\\sum\\limits_{k=1}^\\infty\\sum\\limits_{i=k}^\\infty(1-p)^{i-1}\n",
    "\\end{align}"
   ]
  },
  {
   "cell_type": "markdown",
   "metadata": {
    "ExecuteTime": {
     "end_time": "2020-11-23T00:03:30.469919Z",
     "start_time": "2020-11-23T00:03:30.466417Z"
    }
   },
   "source": [
    "**Claim: Given distribution $X\\sim\\text{Geo}(p)$, $\\mathbb{E}[X]=\\frac{1}{p}$**"
   ]
  },
  {
   "cell_type": "markdown",
   "metadata": {},
   "source": [
    "\\begin{align}\n",
    "\\sum\\limits_{i=1}^\\infty i\\cdot (1-p)^{i-1}&=\\sum\\limits_{i=1}^\\infty i\\cdot (1-p)^{i-1}p=p\\sum\\limits_{i=1}^\\infty i\\cdot (1-p)^{i-1} \\\\\n",
    "&=p\\sum\\limits_{k=1}^\\infty\\sum\\limits_{i=k}^\\infty(1-p)^{i-1}=p\\sum\\limits_{k=1}^\\infty\\frac{(1-p)^{k-1}}{1-(1-p)} \\\\\n",
    "&=p\\sum\\limits_{k=1}^\\infty\\frac{(1-p)^{k-1}}{p}=\\sum\\limits_{k=1}^\\infty(1-p)^{k-1}=\\frac{1}{1-(1-p)}=\\frac{1}{p}\n",
    "\\end{align}"
   ]
  },
  {
   "cell_type": "markdown",
   "metadata": {},
   "source": [
    "### Variance"
   ]
  },
  {
   "cell_type": "markdown",
   "metadata": {},
   "source": [
    "Given distribution $X\\sim\\text{Geo}(p)$, $\\text{Var}(X)=\\frac{1-p}{p^2}$"
   ]
  },
  {
   "cell_type": "markdown",
   "metadata": {},
   "source": [
    "#### Proof"
   ]
  },
  {
   "cell_type": "markdown",
   "metadata": {},
   "source": []
  },
  {
   "cell_type": "markdown",
   "metadata": {},
   "source": [
    "### Mode"
   ]
  },
  {
   "cell_type": "markdown",
   "metadata": {},
   "source": [
    "Given distribution $X\\sim\\text{Geo}(p)$, the mode is 1."
   ]
  },
  {
   "cell_type": "markdown",
   "metadata": {},
   "source": [
    "#### Proof"
   ]
  },
  {
   "cell_type": "markdown",
   "metadata": {},
   "source": [
    "We know $p\\in(0,1]$ and thus $1-p<1$. This means that the PMF of $X$ monotonically decreases. Hence, the mode is 1."
   ]
  },
  {
   "cell_type": "markdown",
   "metadata": {},
   "source": [
    "### Median"
   ]
  },
  {
   "cell_type": "markdown",
   "metadata": {},
   "source": [
    "Given $X\\sim\\text{Geo}(p)$, the median is $\\big\\lceil\\frac{-1}{\\log_2(1-p)}\\big\\rceil$. This value is not unique when $\\frac{-1}{\\log_2(1-p)}$ is an integer."
   ]
  },
  {
   "cell_type": "markdown",
   "metadata": {},
   "source": [
    "#### Proof"
   ]
  },
  {
   "cell_type": "markdown",
   "metadata": {},
   "source": []
  }
 ],
 "metadata": {
  "kernelspec": {
   "display_name": "Python 3",
   "language": "python",
   "name": "python3"
  },
  "language_info": {
   "codemirror_mode": {
    "name": "ipython",
    "version": 3
   },
   "file_extension": ".py",
   "mimetype": "text/x-python",
   "name": "python",
   "nbconvert_exporter": "python",
   "pygments_lexer": "ipython3",
   "version": "3.7.9"
  },
  "varInspector": {
   "cols": {
    "lenName": 16,
    "lenType": 16,
    "lenVar": 40
   },
   "kernels_config": {
    "python": {
     "delete_cmd_postfix": "",
     "delete_cmd_prefix": "del ",
     "library": "var_list.py",
     "varRefreshCmd": "print(var_dic_list())"
    },
    "r": {
     "delete_cmd_postfix": ") ",
     "delete_cmd_prefix": "rm(",
     "library": "var_list.r",
     "varRefreshCmd": "cat(var_dic_list()) "
    }
   },
   "types_to_exclude": [
    "module",
    "function",
    "builtin_function_or_method",
    "instance",
    "_Feature"
   ],
   "window_display": false
  }
 },
 "nbformat": 4,
 "nbformat_minor": 4
}
