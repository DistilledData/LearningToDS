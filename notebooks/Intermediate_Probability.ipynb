{
 "cells": [
  {
   "cell_type": "markdown",
   "metadata": {
    "ExecuteTime": {
     "end_time": "2020-11-01T04:37:52.091083Z",
     "start_time": "2020-11-01T04:37:52.003922Z"
    }
   },
   "source": [
    "# Intermediate Probability"
   ]
  },
  {
   "cell_type": "markdown",
   "metadata": {},
   "source": [
    "This notebook will introduce probability bounds, and law of large numbers. This discussion will be more mathematically rigorous than previous notebooks, so do not be discouraged if some of the below seems confusing."
   ]
  },
  {
   "cell_type": "markdown",
   "metadata": {},
   "source": [
    "## Some Probability Inequalities"
   ]
  },
  {
   "cell_type": "markdown",
   "metadata": {},
   "source": [
    "This will most likely be the most mathematically rigorous part of this notebook. Probability inequalities are useful for bounding probabilities that may be difficult to compute explicity. While showing off some interesting properties of probability, these inequalities will also help in both proving useful properties of probability and understanding data science models. <br>\n",
    "I want to warn the unwary reader that Jensen's inequality is widely used, but requires advanced background in linear algebra to fully appreciate."
   ]
  },
  {
   "cell_type": "markdown",
   "metadata": {},
   "source": [
    "### Markov Inequaltiy"
   ]
  },
  {
   "cell_type": "markdown",
   "metadata": {},
   "source": [
    "Given a positive random variable $X\\ge 0$ with finite mean $\\mathbb{E}[X]$, for some $t>0$ <br>\n",
    "$$\\mathbb{P}(X\\ge t)\\le\\frac{\\mathbb{E}[X]}{t}$$"
   ]
  },
  {
   "cell_type": "markdown",
   "metadata": {},
   "source": [
    "#### Proof"
   ]
  },
  {
   "cell_type": "markdown",
   "metadata": {},
   "source": [
    "**Continuous Random Variable**"
   ]
  },
  {
   "cell_type": "markdown",
   "metadata": {},
   "source": [
    "Given a positive continuous random variable $X\\ge 0$ with density function $f$, we can bound the mean with respect to some $t>0$ <br>\n",
    "$\\mathbb{E}[X]=\\int_0^\\infty xf(x)dx\\ge\\int_t^\\infty xf(x)dx\\ge t\\int_t^\\infty f(x)dx=t\\mathbb{P}(X\\ge t)$ <br>\n",
    "$\\implies\\mathbb{P}(X\\ge t)\\le\\frac{\\mathbb{E}[X]}{t}$"
   ]
  },
  {
   "cell_type": "markdown",
   "metadata": {},
   "source": [
    "**Discrete Random Variable**"
   ]
  },
  {
   "cell_type": "markdown",
   "metadata": {},
   "source": [
    "Given a positive discrete random variable $X\\ge0$, we can bound the mean witth respect to some $t>0$ similar to the continuous case presented above. <br>\n",
    "$\\mathbb{E}[X]=\\sum\\limits_x xP(X=x)=\\sum\\limits_{x\\ge t} xP(X=x)+\\sum\\limits_{x<t}xP(X=x)\\ge\\sum\\limits_{x\\ge t} xP(X=x)\\ge t\\sum\\limits_{x\\ge t} P(X=x)=t\\mathbb{P}(X\\ge t)$ <br>\n",
    "$\\implies\\mathbb{P}(X\\ge t)\\le\\frac{\\mathbb{E}[X]}{t}$"
   ]
  },
  {
   "cell_type": "markdown",
   "metadata": {},
   "source": [
    "#### Discussion"
   ]
  },
  {
   "cell_type": "markdown",
   "metadata": {},
   "source": [
    "### Example Scenario"
   ]
  },
  {
   "cell_type": "markdown",
   "metadata": {},
   "source": [
    "### Chebychev Inequality"
   ]
  },
  {
   "cell_type": "markdown",
   "metadata": {},
   "source": [
    "### Jensen's Inequality"
   ]
  },
  {
   "cell_type": "markdown",
   "metadata": {},
   "source": [
    "## Law of Large Numbers"
   ]
  },
  {
   "cell_type": "markdown",
   "metadata": {
    "ExecuteTime": {
     "end_time": "2020-11-01T04:49:45.421794Z",
     "start_time": "2020-11-01T04:49:45.419149Z"
    }
   },
   "source": [
    "## Weak Form"
   ]
  },
  {
   "cell_type": "markdown",
   "metadata": {},
   "source": [
    "## Strong Form"
   ]
  },
  {
   "cell_type": "code",
   "execution_count": null,
   "metadata": {},
   "outputs": [],
   "source": []
  }
 ],
 "metadata": {
  "kernelspec": {
   "display_name": "Python 3",
   "language": "python",
   "name": "python3"
  },
  "language_info": {
   "codemirror_mode": {
    "name": "ipython",
    "version": 3
   },
   "file_extension": ".py",
   "mimetype": "text/x-python",
   "name": "python",
   "nbconvert_exporter": "python",
   "pygments_lexer": "ipython3",
   "version": "3.7.9"
  },
  "varInspector": {
   "cols": {
    "lenName": 16,
    "lenType": 16,
    "lenVar": 40
   },
   "kernels_config": {
    "python": {
     "delete_cmd_postfix": "",
     "delete_cmd_prefix": "del ",
     "library": "var_list.py",
     "varRefreshCmd": "print(var_dic_list())"
    },
    "r": {
     "delete_cmd_postfix": ") ",
     "delete_cmd_prefix": "rm(",
     "library": "var_list.r",
     "varRefreshCmd": "cat(var_dic_list()) "
    }
   },
   "types_to_exclude": [
    "module",
    "function",
    "builtin_function_or_method",
    "instance",
    "_Feature"
   ],
   "window_display": false
  }
 },
 "nbformat": 4,
 "nbformat_minor": 4
}
