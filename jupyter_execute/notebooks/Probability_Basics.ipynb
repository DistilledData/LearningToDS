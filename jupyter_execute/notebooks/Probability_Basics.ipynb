{
 "cells": [
  {
   "cell_type": "markdown",
   "metadata": {},
   "source": [
    "Author: [DistilledData](https://github.com/DistilledData)"
   ]
  },
  {
   "cell_type": "markdown",
   "metadata": {},
   "source": [
    "%%latex\n",
    "\\tableofcontents\n",
    "\\pagebreak"
   ]
  },
  {
   "cell_type": "markdown",
   "metadata": {
    "ExecuteTime": {
     "end_time": "2020-10-23T05:34:15.258953Z",
     "start_time": "2020-10-23T05:34:15.256459Z"
    }
   },
   "source": [
    "# Probability Basics"
   ]
  },
  {
   "cell_type": "markdown",
   "metadata": {},
   "source": [
    "This notebook is meant to serve as a study guide for the highlights of probability theory that is used in data science. The more mathematically rigorous parts of this notebook require an appreciation of set theory."
   ]
  },
  {
   "cell_type": "markdown",
   "metadata": {
    "ExecuteTime": {
     "end_time": "2020-10-23T05:37:45.868423Z",
     "start_time": "2020-10-23T05:37:45.866487Z"
    }
   },
   "source": [
    "## Some boring mathematical definitions"
   ]
  },
  {
   "cell_type": "markdown",
   "metadata": {
    "ExecuteTime": {
     "end_time": "2020-10-23T06:14:20.934201Z",
     "start_time": "2020-10-23T06:14:20.931656Z"
    }
   },
   "source": [
    "### Experiment (probability)"
   ]
  },
  {
   "cell_type": "markdown",
   "metadata": {},
   "source": [
    "**Outcome**: a possible result of an experiment (e.g. flipping a coin may result in H or T) <br>\n",
    "**Experiment**: A procedure with a fixed set of possible outcomes that may be repeated indefinitely. An experiment has three parts: <br>\n",
    "1. A **Sample Space** ($S$ or $\\Omega$): set of all possible outcomes \n",
    "2. A set of **events** ($\\cal{F}$) (an **event** is a set containing zero or more outcomes)\n",
    "3. Assignment of probabilites to the events (i.e. a function $P$ mapping events to probabilities. Furthermore, we require that as the number times of an experiment tends towards infinity, the frequency of the event $\\cal{F}$ approaches $P(\\cal{F})$"
   ]
  },
  {
   "cell_type": "markdown",
   "metadata": {},
   "source": [
    "**Probability**: A function $P$ that maps each event in $\\cal{F}$ to a real number between 0 and 1, inclusive"
   ]
  },
  {
   "cell_type": "markdown",
   "metadata": {
    "ExecuteTime": {
     "end_time": "2020-10-23T06:30:45.207966Z",
     "start_time": "2020-10-23T06:30:45.205838Z"
    }
   },
   "source": [
    "### Some Notation"
   ]
  },
  {
   "cell_type": "markdown",
   "metadata": {
    "ExecuteTime": {
     "end_time": "2020-10-23T06:38:04.132861Z",
     "start_time": "2020-10-23T06:38:04.128496Z"
    }
   },
   "source": [
    "1. Given an event $A\\in\\cal{F}$, the complement of $A$, $A^c$, is all outcomes that are not in $A$ (i.e. $\\Omega\\backslash A$, or all outcomes $B\\in\\cal{\\Omega}$ such that $B\\notin A$)\n",
    "2. Given two events $A$ and $B$, $A\\cap B$ is the set of outcomes that are in both $A$ and $B$ (i.e. $\\forall\\omega\\in A\\cap B$, $\\omega\\in A$ and $\\omega\\in B$\n",
    "3. Given two events $A$ and $B$, $A\\cup B$ is the set of outcomes that are in either $A$ or $B$ (i.e. $\\forall\\omega\\in A\\cup B$, $\\omega\\in A$ or $\\omega\\in B$"
   ]
  },
  {
   "cell_type": "markdown",
   "metadata": {},
   "source": [
    "### Axioms of Probability"
   ]
  },
  {
   "cell_type": "markdown",
   "metadata": {
    "ExecuteTime": {
     "end_time": "2020-10-23T06:20:35.455247Z",
     "start_time": "2020-10-23T06:20:35.450391Z"
    }
   },
   "source": [
    "1. **Non-Negativity** <br>\n",
    "$\\forall E\\in\\cal{F}$, $P(E)\\in\\mathbb{R}$ such that $P(E)\\ge 0$\n",
    "2. **Unitarity** <br>\n",
    "$P(\\Omega)=1$\n",
    "3. **$\\sigma$-additivity** \n",
    "\n",
    "For all [countable](https://en.wikipedia.org/wiki/Countable_set) sequences of disjoint sets, $E_1$, $E_2$, $\\cdots$, $P\\big(\\bigcup\\limits_{i=1}^\\infty E_i\\big)=\\sum\\limits_{i=1}^\\infty P(E_i)$"
   ]
  },
  {
   "cell_type": "markdown",
   "metadata": {},
   "source": [
    "## Useful Properties of Probability (Derived from Axioms)"
   ]
  },
  {
   "cell_type": "markdown",
   "metadata": {
    "ExecuteTime": {
     "end_time": "2020-10-23T06:50:05.280276Z",
     "start_time": "2020-10-23T06:50:05.276618Z"
    }
   },
   "source": [
    "### The Complement Rule"
   ]
  },
  {
   "cell_type": "markdown",
   "metadata": {
    "ExecuteTime": {
     "end_time": "2020-10-23T06:57:28.297468Z",
     "start_time": "2020-10-23T06:57:28.293716Z"
    }
   },
   "source": [
    "$P(A^c)=P(\\Omega\\backslash A)=1-P(A)$"
   ]
  },
  {
   "cell_type": "markdown",
   "metadata": {},
   "source": [
    "#### Proof"
   ]
  },
  {
   "cell_type": "markdown",
   "metadata": {},
   "source": [
    "**Lemma: $\\forall A\\in\\cal{F}$, $A\\cup A^c = \\Omega$** <br><br>\n",
    "\n",
    "If $\\omega\\in A\\cup A^c$, then $\\omega\\in A$ or $\\omega\\in A^c$. Since $A\\subseteq\\Omega$ and $A^c\\subseteq\\Omega$, $\\omega\\in\\Omega$ \n",
    "\n",
    "If $\\omega\\in\\Omega$, since $A\\subseteq\\Omega$, we have two possibilities: <br>\n",
    "1) $\\omega\\in A$\n",
    "2) $\\omega\\notin A$ \n",
    "\n",
    "If $\\omega\\notin A$, then by definition $\\omega\\in A^c$, which means that $\\omega\\in A\\cup A^c$ and hence $\\Omega\\subseteq A\\cup A^c$ \n",
    "\n",
    "$\\therefore A\\cup A^c=\\Omega$"
   ]
  },
  {
   "cell_type": "markdown",
   "metadata": {
    "ExecuteTime": {
     "end_time": "2020-10-23T06:59:26.802142Z",
     "start_time": "2020-10-23T06:59:26.798512Z"
    }
   },
   "source": [
    "**Claim: $P(A^c)=P(\\Omega\\backslash A)=1-P(A)$**\n",
    "\n",
    "\n",
    "Using the fact that $A^c$ and $A$ are disjoint such that $A\\cup A^c=\\Omega$, by the $\\sigma$-additivity and unitarity axioms, we have\n",
    "\n",
    "$1=P(\\Omega)=P(A\\cup A^c)=P(A)+P(A^c)\\implies P(A^c)=1-P(A)$"
   ]
  },
  {
   "cell_type": "markdown",
   "metadata": {},
   "source": [
    "### Numeric Bound"
   ]
  },
  {
   "cell_type": "markdown",
   "metadata": {
    "ExecuteTime": {
     "end_time": "2020-10-23T08:05:36.565652Z",
     "start_time": "2020-10-23T08:05:36.562257Z"
    }
   },
   "source": [
    "$\\forall E\\in\\cal{F}$, $0\\le P(E)\\le 1$"
   ]
  },
  {
   "cell_type": "markdown",
   "metadata": {
    "ExecuteTime": {
     "end_time": "2020-10-23T08:06:37.144895Z",
     "start_time": "2020-10-23T08:06:37.142970Z"
    }
   },
   "source": [
    "#### Proof"
   ]
  },
  {
   "cell_type": "markdown",
   "metadata": {},
   "source": [
    "$\\forall E\\in\\cal{F}$, axiom 1 gives us the numberic bound $P(E)\\ge 0$, which leaves us to show $P(E)\\le 1$. Using the complement rule above, we obtain\n",
    "\n",
    "$P(E^c)=1-P(E)\\ge 0\\implies 1\\ge P(E)$\n",
    "\n",
    "$\\therefore 0\\le P(E)\\le 1$"
   ]
  },
  {
   "cell_type": "markdown",
   "metadata": {
    "ExecuteTime": {
     "end_time": "2020-10-23T07:33:32.555219Z",
     "start_time": "2020-10-23T07:33:32.553146Z"
    }
   },
   "source": [
    "### Probability of Empty Set"
   ]
  },
  {
   "cell_type": "markdown",
   "metadata": {
    "ExecuteTime": {
     "end_time": "2020-10-23T07:34:00.524562Z",
     "start_time": "2020-10-23T07:34:00.520995Z"
    }
   },
   "source": [
    "$P(\\emptyset)=0$"
   ]
  },
  {
   "cell_type": "markdown",
   "metadata": {},
   "source": [
    "#### Proof"
   ]
  },
  {
   "cell_type": "markdown",
   "metadata": {},
   "source": [
    "**Lemma: $\\Omega^c=\\emptyset$** <br><br>\n",
    "    \n",
    "$\\forall\\omega\\in\\Omega^c$, by definition $\\omega\\notin\\Omega$. However, $\\Omega$ contains all possible outcomes, which is a contradiction. Hence $\\Omega^c=\\emptyset$"
   ]
  },
  {
   "cell_type": "markdown",
   "metadata": {},
   "source": [
    "**Claim: $P(\\emptyset)=0$** <br><br>\n",
    "\n",
    "Since, $\\emptyset$ is the complement of $\\Omega$, we can use the complement rule above and axiom 2. <br>\n",
    "$P(\\Omega^c)=P(\\emptyset)=1-P(\\Omega)=1-1=0$"
   ]
  },
  {
   "cell_type": "markdown",
   "metadata": {},
   "source": [
    "### Monotonicity"
   ]
  },
  {
   "cell_type": "markdown",
   "metadata": {},
   "source": [
    "$\\forall A,B\\in\\cal{F}$ such that $A\\subseteq B$, $P(A)\\le P(B)$"
   ]
  },
  {
   "cell_type": "markdown",
   "metadata": {
    "ExecuteTime": {
     "end_time": "2020-10-23T07:54:58.940315Z",
     "start_time": "2020-10-23T07:54:58.938270Z"
    }
   },
   "source": [
    "#### Proof"
   ]
  },
  {
   "cell_type": "markdown",
   "metadata": {},
   "source": [
    "**Lemma: $\\forall A,B\\in\\cal{F}$ such that $A\\subseteq B$, $B=A\\cup (B\\backslash A)$**\n",
    "\n",
    "\n",
    "If $\\omega\\in B$, since $A\\subseteq B$, either $\\omega\\in A$ or $\\omega\\notin A$. If $\\omega\\in A$, then $\\omega\\in A\\cup (B\\backslash A)$. If $\\omega\\notin A$, then $\\omega\\in B\\backslash A$ and hence $\\omega\\in A\\cup (B\\backslash A)$. Hence, $B\\subseteq A\\cup (B\\backslash A)$.\n",
    "\n",
    "If $\\omega\\in A\\cup (B\\backslash A)$, then either $\\omega\\in A$ or $\\omega\\in (B\\backslash A)$. If $\\omega\\in A$, then $\\omega\\in B$ since $A\\subseteq B$. If $\\omega\\in (B\\backslash A)$, then by definition $\\omega\\in B$. Hence, $A\\cup (B\\backslash A)\\subseteq B$.\n",
    "\n",
    "$\\therefore B=A\\cup (B\\backslash A)$"
   ]
  },
  {
   "cell_type": "markdown",
   "metadata": {
    "ExecuteTime": {
     "end_time": "2020-10-23T07:59:30.094905Z",
     "start_time": "2020-10-23T07:59:30.090274Z"
    }
   },
   "source": [
    "**Claim: $\\forall A,B\\in\\cal{F}$ such that $A\\subseteq B$, $P(A)\\le P(B)$**\n",
    "\n",
    "\n",
    "Since events $A$ and $B\\backslash A$ are disjoint where $B=A\\cup (B\\backslash A)$, we have <br>\n",
    "$P(B)=P(A\\cup(B\\backslash A))=P(A)+P(B\\backslash A)$\n",
    "\n",
    "Since we have shown above (Numberic Bound) $\\forall\\omega\\in\\cal{F}$, $0\\le P(\\omega)\\le 1$, we have $0\\le P(B\\backslash A)\\le 1$, and hence $P(A)=P(B)-P(B\\backslash A)\\le P(B)$.\n",
    "\n",
    "$\\therefore P(A)\\le P(B)$"
   ]
  },
  {
   "cell_type": "markdown",
   "metadata": {},
   "source": [
    "### Rule of Addition"
   ]
  },
  {
   "cell_type": "markdown",
   "metadata": {
    "ExecuteTime": {
     "end_time": "2020-10-23T13:25:36.026781Z",
     "start_time": "2020-10-23T13:25:36.023510Z"
    }
   },
   "source": [
    "$\\forall A,B\\in\\cal{F}$, $P(A\\cup B)=P(A)+P(B)-P(A\\cap B)$"
   ]
  },
  {
   "cell_type": "markdown",
   "metadata": {
    "ExecuteTime": {
     "end_time": "2020-10-23T13:25:43.410567Z",
     "start_time": "2020-10-23T13:25:43.408655Z"
    }
   },
   "source": [
    "#### Proof"
   ]
  },
  {
   "cell_type": "markdown",
   "metadata": {},
   "source": [
    "**Lemma 1: $\\forall A,B\\in\\cal{F}$, $B\\backslash A=B\\backslash (A\\cap B)$**\n",
    "\n",
    "\n",
    "If $\\omega\\in B\\backslash A$, then by definition $\\omega\\in B$ and $\\omega\\notin A$. Since $\\omega\\notin A$, $\\omega\\notin A\\cap B$ and hence $\\omega\\in B\\backslash (A\\cap B)\\implies B\\backslash A\\subseteq B\\backslash (A\\cap B)$\n",
    "\n",
    "If $\\omega\\in B\\backslash (A\\cap B)$, then by definition $\\omega\\in B$ and also by definition $\\omega\\notin (A\\cap B)\\implies \\omega\\notin A$. Thus $\\omega\\in B\\backslash A$ and hence $B\\backslash (A\\cap B)\\subseteq B\\backslash A$\n",
    "\n",
    "$\\therefore\\forall A,B\\in\\cal{F}$, $B\\backslash A=B\\backslash (A\\cap B)$"
   ]
  },
  {
   "cell_type": "markdown",
   "metadata": {},
   "source": [
    "**Lemma 2: $\\forall A, B\\in\\cal{F}$, $A\\cup B=A\\cup (B\\backslash A)$**\n",
    "\n",
    "\n",
    "We will first show $A\\cup B=A\\cup (B\\backslash A\\cap B)$ and use lemma 1 to prove lemma 2.\n",
    "\n",
    "$\\forall\\omega\\in A\\cup B$, by definition $\\omega\\in A$ or $\\omega\\in B$. If $\\omega\\in A$, then $\\omega\\in A\\cup (B\\backslash A\\cap B)$. If $\\omega\\in B$, then either $\\omega\\in A\\cap B$ and hence $\\omega\\in A$, or $\\omega\\in B\\backslash A\\cap B$, which means $\\omega\\in A\\cup (B\\backslash A\\cap B)$. Thus, $A\\cup B\\subseteq A\\cup (B\\backslash A\\cap B)$.\n",
    "\n",
    "$\\forall\\omega\\in A\\cup (B\\backslash A\\cap B)$, by definition $\\omega\\in A$ or $\\omega\\in B\\backslash A\\cap B$. If $\\omega\\in A$, then $\\omega\\in A\\cap B$. If $\\omega\\in B\\backslash A\\cap B$, then by definition $\\omega\\in B$ and hence $\\omega\\in A\\cup B$. Thus, $A\\cup (B\\backslash A\\cap B)\\subseteq A\\cup B$.\n",
    "\n",
    "$\\therefore A\\cup B = A\\cup (B\\backslash A\\cap B)$ and using Lemma 1 above, we have $A\\cup B = A\\cup (B\\backslash A)$"
   ]
  },
  {
   "cell_type": "markdown",
   "metadata": {},
   "source": [
    "**Claim: $\\forall A,B\\in\\cal{F}$, $P(A\\cup B)=P(A)+P(B)-P(A\\cap B)$**\n",
    "\n",
    "\n",
    "By the $\\sigma$-additivity axiom on disjoint sets $A$ and $B\\backslash A$, and the lemmas above, we have $P(A\\cup B)=P(A\\cup (B\\backslash A))=P(A)+P(B\\backslash A)=P(A)+P(B\\backslash (A\\cap B))$\n",
    "\n",
    "Using the $\\sigma$-addivity axiom on disjoint sets $A\\cap B$ and $B\\backslash (A\\cap B)$, we obtain $P(B)=P\\bigg(\\Big(A\\cap B\\Big)\\cup\\Big(B\\backslash \\big(A\\cap B\\big)\\Big)\\bigg)=P(A\\cap B) + P(B\\backslash (A\\cap B))$\n",
    "\n",
    "$\\implies P(A\\cup B)=P(A)+P(B\\backslash (A\\cup B))=P(A)+P(B)-P(A\\cap B)$"
   ]
  },
  {
   "cell_type": "markdown",
   "metadata": {},
   "source": [
    "## Some Useful Definitions"
   ]
  },
  {
   "cell_type": "markdown",
   "metadata": {},
   "source": [
    "### Independence"
   ]
  },
  {
   "cell_type": "markdown",
   "metadata": {},
   "source": [
    "$\\forall A,B\\in\\cal{F}$, $A$ and $B$ are independent $\\iff$ $P(A\\cap B)=P(A)P(B)$"
   ]
  },
  {
   "cell_type": "markdown",
   "metadata": {},
   "source": [
    "### Mutually Exclusive"
   ]
  },
  {
   "cell_type": "markdown",
   "metadata": {
    "ExecuteTime": {
     "end_time": "2020-10-23T15:52:34.366139Z",
     "start_time": "2020-10-23T15:52:34.362317Z"
    }
   },
   "source": [
    "$\\forall A,B\\in\\cal{F}$, $A$ and $B$ are mutually exclusive $\\iff$ $P(A\\cap B) = 0$"
   ]
  },
  {
   "cell_type": "markdown",
   "metadata": {},
   "source": [
    "### Conditional Probability"
   ]
  },
  {
   "cell_type": "markdown",
   "metadata": {},
   "source": [
    "$\\forall A,B\\in\\cal{F}$, $P(A|B)=\\frac{P(A\\cap B)}{P(B)}$"
   ]
  },
  {
   "cell_type": "markdown",
   "metadata": {},
   "source": [
    "### Bayes Theorem"
   ]
  },
  {
   "cell_type": "markdown",
   "metadata": {
    "ExecuteTime": {
     "end_time": "2020-10-23T15:57:25.884005Z",
     "start_time": "2020-10-23T15:57:25.879960Z"
    }
   },
   "source": [
    "$\\forall A,B\\in\\cal{F}$, $P(A|B)=\\frac{P(B|A)P(A)}{P(B)}$"
   ]
  },
  {
   "cell_type": "markdown",
   "metadata": {},
   "source": [
    "#### Proof"
   ]
  },
  {
   "cell_type": "markdown",
   "metadata": {},
   "source": [
    "$P(A|B)=\\frac{P(A\\cap B)}{P(B)}$\n",
    "\n",
    "$\\frac{P(B|A)P(A)}{P(B)}=\\frac{\\frac{P(B\\cap A)}{P(A)}P(A)}{P(B)}=\\frac{P(B\\cap A)}{P(B)}=\\frac{P(A\\cap B)}{P(B)}$\n",
    "\n",
    "$\\therefore P(A|B)=\\frac{P(B|A)P(A)}{P(B)}$"
   ]
  },
  {
   "cell_type": "markdown",
   "metadata": {},
   "source": [
    "## Practical Probability Mathematics"
   ]
  },
  {
   "cell_type": "markdown",
   "metadata": {},
   "source": [
    "### Permutations"
   ]
  },
  {
   "cell_type": "markdown",
   "metadata": {},
   "source": [
    "#### Definition"
   ]
  },
  {
   "cell_type": "markdown",
   "metadata": {},
   "source": [
    "A set or collection of items where order matters. For instance, each sequence of characters that form a license plate is a distinct permutation. Another example is choosing a card from a deck of cards without replacement. The sequence of cards that is chosen form a permutation."
   ]
  },
  {
   "cell_type": "markdown",
   "metadata": {},
   "source": [
    "Given a set of n items from which we want to choose k items without replacement in an order-dependent fashion, the number of possibilities is given by\n",
    "\n",
    "\n",
    "$P(n,k)=\\frac{n!}{(n-k)!}$"
   ]
  },
  {
   "cell_type": "markdown",
   "metadata": {},
   "source": [
    "#### Dealing With Repeated Elements"
   ]
  },
  {
   "cell_type": "markdown",
   "metadata": {},
   "source": [
    "Suppose an item occurs r times in our set. The number of permutations then is given by\n",
    "\n",
    "\n",
    "$P(n,k)=\\frac{n!}{r!(n-k)!}$"
   ]
  },
  {
   "cell_type": "markdown",
   "metadata": {},
   "source": [
    "Example: How many different permutations are there of the letters in the word \"gooogle\"?\n",
    "\n",
    "Answer: The word \"gooogle\" has 7 letters. Since we have three 'o's and two 'g's, the total number of permutations is given by \\frac{7!}{3!2!}$"
   ]
  },
  {
   "cell_type": "markdown",
   "metadata": {},
   "source": [
    "### Combination"
   ]
  },
  {
   "cell_type": "markdown",
   "metadata": {
    "ExecuteTime": {
     "end_time": "2020-10-23T16:26:14.684633Z",
     "start_time": "2020-10-23T16:26:14.680554Z"
    }
   },
   "source": [
    "A combination is an order-independent set or collection of items. For instance, if you are choosing three people for a team out of ten people, the order that you choose the people does not matter, just the total number of distinct teams."
   ]
  },
  {
   "cell_type": "markdown",
   "metadata": {
    "ExecuteTime": {
     "end_time": "2020-10-23T16:32:42.514036Z",
     "start_time": "2020-10-23T16:32:42.510265Z"
    }
   },
   "source": [
    "The number of combinations for choosing r items out of n possibilities is given by: \n",
    "\n",
    "$C(n,k)=\\frac{n!}{k!(n-k)!}$\n",
    "\n",
    "\n",
    "This corresponds to a permutation where an element has k repeats. This makes intuitive sense because for every distinct permutation of $k$ items (distinct here means that the count of each individual item type is unique since order does not matter), there are k! arrangements of those items that we consider \"repeats\"."
   ]
  },
  {
   "cell_type": "markdown",
   "metadata": {
    "ExecuteTime": {
     "end_time": "2020-10-25T20:06:39.703583Z",
     "start_time": "2020-10-25T20:06:39.701555Z"
    }
   },
   "source": [
    "### Sums"
   ]
  },
  {
   "cell_type": "markdown",
   "metadata": {},
   "source": [
    "#### Arithmetic Sum"
   ]
  },
  {
   "cell_type": "markdown",
   "metadata": {},
   "source": [
    "An arithmetic sequence is a list of integers $a_1,a_2,\\cdots,a_n$ such that $\\forall i\\in\\{2,\\cdots,n\\}$ $a_i-a_{i-1}=d$ for some $d\\in\\mathbb{N}$ where $d>0$"
   ]
  },
  {
   "cell_type": "markdown",
   "metadata": {},
   "source": [
    "If we sum this arithmetic sequence with $n$ terms, initial element $a_0$, last element $a_n$, and difference $d$ between terms, we generate an arithmetic sum whose formula is shown below:\n",
    "\n",
    "\n",
    "$S=\\frac{(a_0+a_n)n}{2}$"
   ]
  },
  {
   "cell_type": "markdown",
   "metadata": {},
   "source": [
    "#### Proof"
   ]
  },
  {
   "cell_type": "markdown",
   "metadata": {},
   "source": [
    "**Lemma: $\\sum\\limits_{i=1}^n (i - 1) = \\frac{n(n-1)}{2}$**\n",
    "\n",
    "    \n",
    "If $n$ is even, then we have\n",
    "\n",
    "$\\sum\\limits_{i=1}^n (i - 1)=\\bigg(\\sum\\limits_{i=1}^n i\\bigg) - n$\n",
    "\n",
    "$\\sum\\limits_{i=1}^n i=\\sum\\limits_{i=1}^{n/2} i +\\sum\\limits_{i=(n/2)+1}^n i=\\sum\\limits_{i=1}^{n/2} i +\\sum\\limits_{i=1}^{n/2} (\\frac{n}{2}+i)$\n",
    "\n",
    "$\\sum\\limits_{i=1}^{n/2} i$ corresponds to summing the numbers 1 to $\\frac{n}{2}$. $\\forall w\\in\\{1,\\cdots,\\frac{n}{2}\\}\\exists 1\\le k\\le\\frac{n}{2}$ such that $w+k=\\frac{n}{2}+1\\implies w=\\frac{n}{2}-k+1$, which allows us to rewrite our summation as $\\sum\\limits_{i=1}^{n/2} (\\frac{n}{2}-i+1)$\n",
    "\n",
    "$\\implies\\sum\\limits_{i=1}^n i=\\sum\\limits_{i=1}^{n/2} (\\frac{n}{2}-i+1) +\\sum\\limits_{i=1}^{n/2} (\\frac{n}{2}+i)=\\sum\\limits_{i=1}^{n/2} (n+1)=\\frac{n}{2}(n+1)$\n",
    "\n",
    "$\\implies\\sum\\limits_{i=1}^n (i - 1)=\\bigg(\\sum\\limits_{i=1}^n i\\bigg) - n=\\frac{n^2}{2}+\\frac{n}{2}-n=\\frac{n^2}{2}-\\frac{n}{2}=\\frac{n(n-1)}{2}$"
   ]
  },
  {
   "cell_type": "markdown",
   "metadata": {},
   "source": [
    "Now suppose that $n$ is odd and hence $n-1$ is even. Using the fact that $\\sum\\limits_{i=1}^n (i - 1)=\\sum\\limits_{i=2}^n (i - 1)=\\sum\\limits_{i=1}^{n-1} i$ and using similar logic to the case when $n$ is even, we obtain\n",
    "\n",
    "$\\sum\\limits_{i=1}^{n-1} i=\\sum\\limits_{i=1}^{(n-1)/2} (\\frac{n-1}{2}-i+1) +\\sum\\limits_{i=1}^{(n-1)/2} (\\frac{n-1}{2}+i)=\\sum\\limits_{i=1}^{(n-1)/2} n=\\frac{n(n-1)}{2}$ \n",
    "\n",
    "$\\therefore\\sum\\limits_{i=1}^n (i - 1) = \\frac{n(n-1)}{2}$"
   ]
  },
  {
   "cell_type": "markdown",
   "metadata": {},
   "source": [
    "**Claim: $S=\\frac{(a_0+a_n)n}{2}$**\n",
    "\n",
    "\n",
    "$S=\\sum\\limits_{i=1}^n a_i=\\sum\\limits_{i=1}^n a_1+(i-1)\\cdot d=n\\cdot a_1+d\\sum\\limits_{i=1}^n (i-1)=n\\cdot a_1+d\\frac{n(n-1)}{2}=\\frac{n}{2}\\big(2a_1+d(n-1)\\big)$\n",
    "\n",
    "Using the fact that $a_n=a_1+(n-1)d$, we obtain\n",
    "\n",
    "$S=\\frac{n}{2}\\big(2a_1+d(n-1)\\big)=\\frac{n}{2}\\big(a_1+a_n\\big)$"
   ]
  },
  {
   "cell_type": "markdown",
   "metadata": {},
   "source": [
    "### Geometric Sum"
   ]
  },
  {
   "cell_type": "markdown",
   "metadata": {},
   "source": [
    "#### Finite Case"
   ]
  },
  {
   "cell_type": "markdown",
   "metadata": {},
   "source": [
    "Given a non-zero number $a_0\\in\\mathbb{R}$ and a rate $r\\in\\mathbb{R}$ such that $r\\ne 1$, a finite geometric series with $n$ terms is a sequence of numbers $a_0,r\\cdot a_0,\\cdots,r^{n-1}a_0$. "
   ]
  },
  {
   "cell_type": "markdown",
   "metadata": {},
   "source": [
    "The sum of the terms in a geometric series is called a geometric sum. The formula for a geometric sum is given by\n",
    "\n",
    "$S_n=\\frac{(1-r^n)a_0}{1-r}$"
   ]
  },
  {
   "cell_type": "markdown",
   "metadata": {},
   "source": [
    "##### Proof"
   ]
  },
  {
   "cell_type": "markdown",
   "metadata": {},
   "source": [
    "Multiplying both sides of the summation by $r$ and subtracting the two equations, we obtain\n",
    "\n",
    "$S_n=a_0+r\\cdot a_0+\\cdots + r^{n-1}\\cdot a_0$\n",
    "\n",
    "$r\\cdot S_n=r\\cdot(a_0+r\\cdot a_0+\\cdots + r^{n-1}\\cdot a_0)=r\\cdot a_0+r^2\\cdot a_0+\\cdots + r^n\\cdot a_0$\n",
    "\n",
    "$\\implies S_n-r\\cdot S_n=(a_0+r\\cdot a_0+\\cdots + r^{n-1}\\cdot a_0)-(r\\cdot a_0+r^2\\cdot a_0+\\cdots + r^n\\cdot a_0)$\n",
    "\n",
    "$(1-r)S_n=a_0-r^n\\cdot a_0=(1-r^n)a_0$\n",
    "\n",
    "$\\therefore S_n=\\frac{(1-r^n)a_0}{1-r}$"
   ]
  },
  {
   "cell_type": "markdown",
   "metadata": {},
   "source": [
    "#### Infinite Case"
   ]
  },
  {
   "cell_type": "markdown",
   "metadata": {
    "ExecuteTime": {
     "end_time": "2020-10-25T22:31:05.196363Z",
     "start_time": "2020-10-25T22:31:05.192271Z"
    }
   },
   "source": [
    "In order to for a sum of an infinite geometric sum to converge to a value, $r$ must satisfy $0\\le r<1$. Given such an $r$, the value for the sum becomes \n",
    "\n",
    "$S_n=\\frac{a_0}{1-r}$"
   ]
  },
  {
   "cell_type": "markdown",
   "metadata": {},
   "source": [
    "##### Proof"
   ]
  },
  {
   "cell_type": "markdown",
   "metadata": {},
   "source": [
    "$\\lim\\limits_{n\\to\\infty}S_n=\\lim\\limits_{n\\to\\infty}\\frac{(1-r^n)a_0}{1-r}=\\lim\\limits_{n\\to\\infty}\\frac{a_0}{1-r}+\\lim\\limits_{n\\to\\infty}\\frac{r^na_0}{1-r}$\n",
    "\n",
    "Since $0\\le r < 1$, $\\lim\\limits_{n\\to\\infty}r^n = 0$ and hence $\\lim\\limits_{n\\to\\infty}\\frac{r^n a_0}{1-r} = 0$\n",
    "\n",
    "We also know that $\\frac{a_0}{1-r}$ has no dependence on $n$ and hence $\\lim\\limits_{n\\to\\infty}\\frac{a_0}{1-r}=\\frac{a_0}{1-r}$\n",
    "\n",
    "$\\implies S_\\infty=\\lim\\limits_{n\\to\\infty}\\frac{a_0}{1-r}+\\lim\\limits_{n\\to\\infty}\\frac{r^na_0}{1-r}=\\frac{a_0}{1-r}$"
   ]
  }
 ],
 "metadata": {
  "kernelspec": {
   "display_name": "Python 3",
   "language": "python",
   "name": "python3"
  },
  "language_info": {
   "codemirror_mode": {
    "name": "ipython",
    "version": 3
   },
   "file_extension": ".py",
   "mimetype": "text/x-python",
   "name": "python",
   "nbconvert_exporter": "python",
   "pygments_lexer": "ipython3",
   "version": "3.9.0"
  },
  "toc": {
   "base_numbering": 1,
   "nav_menu": {
    "height": "678px",
    "width": "406.333px"
   },
   "number_sections": true,
   "sideBar": true,
   "skip_h1_title": false,
   "title_cell": "Table of Contents",
   "title_sidebar": "Contents",
   "toc_cell": true,
   "toc_position": {
    "height": "calc(100% - 180px)",
    "left": "10px",
    "top": "150px",
    "width": "340.792px"
   },
   "toc_section_display": true,
   "toc_window_display": true
  },
  "varInspector": {
   "cols": {
    "lenName": 16,
    "lenType": 16,
    "lenVar": 40
   },
   "kernels_config": {
    "python": {
     "delete_cmd_postfix": "",
     "delete_cmd_prefix": "del ",
     "library": "var_list.py",
     "varRefreshCmd": "print(var_dic_list())"
    },
    "r": {
     "delete_cmd_postfix": ") ",
     "delete_cmd_prefix": "rm(",
     "library": "var_list.r",
     "varRefreshCmd": "cat(var_dic_list()) "
    }
   },
   "types_to_exclude": [
    "module",
    "function",
    "builtin_function_or_method",
    "instance",
    "_Feature"
   ],
   "window_display": false
  }
 },
 "nbformat": 4,
 "nbformat_minor": 2
}